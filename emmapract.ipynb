{
 "cells": [
  {
   "cell_type": "markdown",
   "id": "0815db43",
   "metadata": {},
   "source": [
    "# python tutorial"
   ]
  },
  {
   "cell_type": "markdown",
   "id": "4f9aed6f",
   "metadata": {},
   "source": [
    "### data structure and booleans"
   ]
  },
  {
   "cell_type": "markdown",
   "id": "d831ecfc",
   "metadata": {},
   "source": [
    "- Data types"
   ]
  },
  {
   "cell_type": "markdown",
   "id": "8bac7cce",
   "metadata": {},
   "source": [
    "- Boolean and logical operators\n",
    "- List\n",
    "- Comparison operator\n",
    "- Dictionaries\n",
    "- Tuples\n",
    "- Sets"
   ]
  },
  {
   "cell_type": "code",
   "execution_count": 1,
   "id": "86b49ebe",
   "metadata": {},
   "outputs": [
    {
     "name": "stdout",
     "output_type": "stream",
     "text": [
      "0 100 5.0\n"
     ]
    }
   ],
   "source": [
    "a=10%2\n",
    "b=10**2 #mathematical operations\n",
    "c=10/2\n",
    "print(a,b,c)"
   ]
  },
  {
   "cell_type": "code",
   "execution_count": 2,
   "id": "3f0a5711",
   "metadata": {},
   "outputs": [
    {
     "data": {
      "text/plain": [
       "'emma emma emma emma emma emma emma emma emma emma '"
      ]
     },
     "execution_count": 2,
     "metadata": {},
     "output_type": "execute_result"
    }
   ],
   "source": [
    "10*'emma '"
   ]
  },
  {
   "cell_type": "code",
   "execution_count": 3,
   "id": "27d2f97a",
   "metadata": {},
   "outputs": [
    {
     "data": {
      "text/plain": [
       "float"
      ]
     },
     "execution_count": 3,
     "metadata": {},
     "output_type": "execute_result"
    }
   ],
   "source": [
    "type(10.0)"
   ]
  },
  {
   "cell_type": "code",
   "execution_count": 4,
   "id": "091c63c6",
   "metadata": {},
   "outputs": [],
   "source": [
    "# \"this is my code\""
   ]
  },
  {
   "cell_type": "code",
   "execution_count": 5,
   "id": "4029dbda",
   "metadata": {},
   "outputs": [
    {
     "data": {
      "text/plain": [
       "4"
      ]
     },
     "execution_count": 5,
     "metadata": {},
     "output_type": "execute_result"
    }
   ],
   "source": [
    "2+2"
   ]
  },
  {
   "cell_type": "markdown",
   "id": "1c8a941d",
   "metadata": {},
   "source": [
    "String"
   ]
  },
  {
   "cell_type": "code",
   "execution_count": 6,
   "id": "2f970b01",
   "metadata": {},
   "outputs": [],
   "source": [
    " first='emma'"
   ]
  },
  {
   "cell_type": "code",
   "execution_count": 7,
   "id": "2db8c5f0",
   "metadata": {},
   "outputs": [
    {
     "name": "stdout",
     "output_type": "stream",
     "text": [
      "my name is emma\n"
     ]
    }
   ],
   "source": [
    "print(f'my name is {first}')"
   ]
  },
  {
   "cell_type": "markdown",
   "id": "50505a73",
   "metadata": {},
   "source": [
    "variable Assignment"
   ]
  },
  {
   "cell_type": "code",
   "execution_count": 8,
   "id": "a7d4fd06",
   "metadata": {},
   "outputs": [],
   "source": [
    "a=20  #mathematical operation"
   ]
  },
  {
   "cell_type": "code",
   "execution_count": 9,
   "id": "f0f3a6ca",
   "metadata": {},
   "outputs": [
    {
     "data": {
      "text/plain": [
       "int"
      ]
     },
     "execution_count": 9,
     "metadata": {},
     "output_type": "execute_result"
    }
   ],
   "source": [
    "type(a)"
   ]
  },
  {
   "cell_type": "code",
   "execution_count": 10,
   "id": "62e0fdd5",
   "metadata": {},
   "outputs": [
    {
     "data": {
      "text/plain": [
       "False"
      ]
     },
     "execution_count": 10,
     "metadata": {},
     "output_type": "execute_result"
    }
   ],
   "source": [
    "bool()"
   ]
  },
  {
   "cell_type": "code",
   "execution_count": 11,
   "id": "08f7b30e",
   "metadata": {},
   "outputs": [
    {
     "name": "stdout",
     "output_type": "stream",
     "text": [
      "True\n"
     ]
    }
   ],
   "source": [
    "print(True)"
   ]
  },
  {
   "cell_type": "code",
   "execution_count": 12,
   "id": "6afef6c5",
   "metadata": {},
   "outputs": [
    {
     "name": "stdout",
     "output_type": "stream",
     "text": [
      "my name is emmy  and  lastnAME is dan\n",
      "my name is emmy  and my nickname is dan\n"
     ]
    }
   ],
   "source": [
    "a='emmy '\n",
    "b='dan'\n",
    "print('my name is {} and  lastnAME is {}'.format(a,b))\n",
    "print('my name is {c} and my nickname is {v}'.format(c=a,v=b))"
   ]
  },
  {
   "cell_type": "code",
   "execution_count": 13,
   "id": "cfd53fd3",
   "metadata": {},
   "outputs": [
    {
     "data": {
      "text/plain": [
       "5"
      ]
     },
     "execution_count": 13,
     "metadata": {},
     "output_type": "execute_result"
    }
   ],
   "source": [
    "len('krish')"
   ]
  },
  {
   "cell_type": "code",
   "execution_count": 14,
   "id": "6329a924",
   "metadata": {},
   "outputs": [
    {
     "data": {
      "text/plain": [
       "bool"
      ]
     },
     "execution_count": 14,
     "metadata": {},
     "output_type": "execute_result"
    }
   ],
   "source": [
    "type(True)"
   ]
  },
  {
   "cell_type": "code",
   "execution_count": 15,
   "id": "8e87bc94",
   "metadata": {},
   "outputs": [
    {
     "name": "stdout",
     "output_type": "stream",
     "text": [
      "my name is john\n"
     ]
    }
   ],
   "source": [
    "name='john'\n",
    "print('my name is {}'.format(name))"
   ]
  },
  {
   "cell_type": "code",
   "execution_count": 16,
   "id": "218f1f33",
   "metadata": {},
   "outputs": [
    {
     "name": "stdout",
     "output_type": "stream",
     "text": [
      "my name is emma and my level is expert\n"
     ]
    }
   ],
   "source": [
    "print('my name is {name1} and my level is {level}'.format(name1='emma',level='expert'))\n",
    "\n"
   ]
  },
  {
   "cell_type": "code",
   "execution_count": 17,
   "id": "b1747d1a",
   "metadata": {},
   "outputs": [],
   "source": [
    "my_name='Emma'"
   ]
  },
  {
   "cell_type": "code",
   "execution_count": 18,
   "id": "51e4644b",
   "metadata": {},
   "outputs": [
    {
     "data": {
      "text/plain": [
       "True"
      ]
     },
     "execution_count": 18,
     "metadata": {},
     "output_type": "execute_result"
    }
   ],
   "source": [
    "my_name.isalnum()\n",
    "my_name.istitle()"
   ]
  },
  {
   "cell_type": "code",
   "execution_count": 19,
   "id": "f0f9624c",
   "metadata": {},
   "outputs": [
    {
     "name": "stdout",
     "output_type": "stream",
     "text": [
      "True\n",
      "True\n",
      "False\n",
      "False\n",
      "True\n",
      "emma\n"
     ]
    }
   ],
   "source": [
    "# string builtin functions\n",
    "print(my_name.endswith('a'))\n",
    "print(my_name.isalpha())\n",
    "print(my_name.startswith('e'))\n",
    "print(my_name.isspace())\n",
    "print(my_name.endswith('a'))\n",
    "print(my_name.lower())\n"
   ]
  },
  {
   "cell_type": "markdown",
   "id": "f854fa37",
   "metadata": {},
   "source": [
    "### Boolean and Logical Operator"
   ]
  },
  {
   "cell_type": "code",
   "execution_count": 20,
   "id": "ac28596b",
   "metadata": {},
   "outputs": [
    {
     "data": {
      "text/plain": [
       "True"
      ]
     },
     "execution_count": 20,
     "metadata": {},
     "output_type": "execute_result"
    }
   ],
   "source": [
    "True and True\n"
   ]
  },
  {
   "cell_type": "code",
   "execution_count": 21,
   "id": "c66fbaef",
   "metadata": {},
   "outputs": [
    {
     "data": {
      "text/plain": [
       "False"
      ]
     },
     "execution_count": 21,
     "metadata": {},
     "output_type": "execute_result"
    }
   ],
   "source": [
    "True and False\n"
   ]
  },
  {
   "cell_type": "code",
   "execution_count": 22,
   "id": "309b109c",
   "metadata": {},
   "outputs": [
    {
     "data": {
      "text/plain": [
       "False"
      ]
     },
     "execution_count": 22,
     "metadata": {},
     "output_type": "execute_result"
    }
   ],
   "source": [
    "False and True"
   ]
  },
  {
   "cell_type": "code",
   "execution_count": 23,
   "id": "7b6a0876",
   "metadata": {},
   "outputs": [
    {
     "data": {
      "text/plain": [
       "True"
      ]
     },
     "execution_count": 23,
     "metadata": {},
     "output_type": "execute_result"
    }
   ],
   "source": [
    "True or False"
   ]
  },
  {
   "cell_type": "code",
   "execution_count": 24,
   "id": "e224deda",
   "metadata": {},
   "outputs": [],
   "source": [
    "str_ex= 'heloworld'\n",
    "stry='emma'\n",
    "\n"
   ]
  },
  {
   "cell_type": "code",
   "execution_count": 25,
   "id": "aaedec93",
   "metadata": {},
   "outputs": [
    {
     "data": {
      "text/plain": [
       "True"
      ]
     },
     "execution_count": 25,
     "metadata": {},
     "output_type": "execute_result"
    }
   ],
   "source": [
    "stry.isalpha() and stry.isalnum()"
   ]
  },
  {
   "cell_type": "markdown",
   "id": "f33fc284",
   "metadata": {},
   "source": [
    "## list\n",
    "### changeable ordered and indexed mutable"
   ]
  },
  {
   "cell_type": "code",
   "execution_count": 26,
   "id": "a05141ba",
   "metadata": {},
   "outputs": [
    {
     "data": {
      "text/plain": [
       "list"
      ]
     },
     "execution_count": 26,
     "metadata": {},
     "output_type": "execute_result"
    }
   ],
   "source": [
    "\n",
    "lst=list()  #list contructoor\n",
    "type(lst)"
   ]
  },
  {
   "cell_type": "code",
   "execution_count": 27,
   "id": "400c64f6",
   "metadata": {},
   "outputs": [
    {
     "data": {
      "text/plain": [
       "[]"
      ]
     },
     "execution_count": 27,
     "metadata": {},
     "output_type": "execute_result"
    }
   ],
   "source": [
    "lst"
   ]
  },
  {
   "cell_type": "code",
   "execution_count": 28,
   "id": "721094cd",
   "metadata": {},
   "outputs": [
    {
     "data": {
      "text/plain": [
       "['a', 'b', 'c']"
      ]
     },
     "execution_count": 28,
     "metadata": {},
     "output_type": "execute_result"
    }
   ],
   "source": [
    "lis=list(['a',\"b\",'c'])\n",
    "lis"
   ]
  },
  {
   "cell_type": "code",
   "execution_count": 29,
   "id": "03b0bd21",
   "metadata": {},
   "outputs": [],
   "source": [
    "# lst=list()\n",
    "# type(lst)"
   ]
  },
  {
   "cell_type": "code",
   "execution_count": 30,
   "id": "7fbad21c",
   "metadata": {},
   "outputs": [
    {
     "name": "stdout",
     "output_type": "stream",
     "text": [
      "['math', 'eng', 'biology', 300, 400, 500]\n"
     ]
    }
   ],
   "source": [
    "lst= ['math','eng','biology', 300, 400, 500]\n",
    "print(lst)"
   ]
  },
  {
   "cell_type": "code",
   "execution_count": 31,
   "id": "46e15332",
   "metadata": {},
   "outputs": [
    {
     "data": {
      "text/plain": [
       "list"
      ]
     },
     "execution_count": 31,
     "metadata": {},
     "output_type": "execute_result"
    }
   ],
   "source": [
    "type(lst)"
   ]
  },
  {
   "cell_type": "code",
   "execution_count": 32,
   "id": "f9883377",
   "metadata": {},
   "outputs": [
    {
     "data": {
      "text/plain": [
       "6"
      ]
     },
     "execution_count": 32,
     "metadata": {},
     "output_type": "execute_result"
    }
   ],
   "source": [
    "len(lst)"
   ]
  },
  {
   "cell_type": "code",
   "execution_count": 33,
   "id": "208cc19a",
   "metadata": {},
   "outputs": [
    {
     "data": {
      "text/plain": [
       "['math', 'eng', 'biology', 300, 400, 500, 'economics']"
      ]
     },
     "execution_count": 33,
     "metadata": {},
     "output_type": "execute_result"
    }
   ],
   "source": [
    "# appending in list\n",
    "lst.append('economics') #to add more item into a list\n",
    "lst"
   ]
  },
  {
   "cell_type": "code",
   "execution_count": 34,
   "id": "471be306",
   "metadata": {},
   "outputs": [],
   "source": [
    "# # creating nexted list\n",
    "# lst.append(['emma', '400l'])"
   ]
  },
  {
   "cell_type": "code",
   "execution_count": 35,
   "id": "d8321027",
   "metadata": {},
   "outputs": [
    {
     "data": {
      "text/plain": [
       "['math', 'phy', 'eng', 'biology', 300, 400, 500, 'economics']"
      ]
     },
     "execution_count": 35,
     "metadata": {},
     "output_type": "execute_result"
    }
   ],
   "source": [
    "#insert\n",
    "lst.insert(1,'phy')\n",
    "lst"
   ]
  },
  {
   "cell_type": "code",
   "execution_count": 36,
   "id": "3998121d",
   "metadata": {},
   "outputs": [
    {
     "data": {
      "text/plain": [
       "400"
      ]
     },
     "execution_count": 36,
     "metadata": {},
     "output_type": "execute_result"
    }
   ],
   "source": [
    "#indexing\n",
    "lst[5]"
   ]
  },
  {
   "cell_type": "code",
   "execution_count": 37,
   "id": "550c0774",
   "metadata": {},
   "outputs": [
    {
     "data": {
      "text/plain": [
       "['phy', 'eng', 'biology', 300, 400, 500, 'economics']"
      ]
     },
     "execution_count": 37,
     "metadata": {},
     "output_type": "execute_result"
    }
   ],
   "source": [
    "lst[1:8]"
   ]
  },
  {
   "cell_type": "code",
   "execution_count": 38,
   "id": "17d2edfd",
   "metadata": {},
   "outputs": [
    {
     "data": {
      "text/plain": [
       "['phy', 'biology']"
      ]
     },
     "execution_count": 38,
     "metadata": {},
     "output_type": "execute_result"
    }
   ],
   "source": [
    "# slicing\n",
    "lst[1:4:2]"
   ]
  },
  {
   "cell_type": "code",
   "execution_count": null,
   "id": "9c272b37",
   "metadata": {},
   "outputs": [],
   "source": []
  },
  {
   "cell_type": "markdown",
   "id": "9822e4f0",
   "metadata": {},
   "source": [
    "### Extend Method"
   ]
  },
  {
   "cell_type": "code",
   "execution_count": 39,
   "id": "0b6bac5e",
   "metadata": {},
   "outputs": [
    {
     "data": {
      "text/plain": [
       "[2, 2, 6, 3, 4, 9, 8]"
      ]
     },
     "execution_count": 39,
     "metadata": {},
     "output_type": "execute_result"
    }
   ],
   "source": [
    "lst1=[2,2,6,3,4]\n",
    "lst1.extend([9,8])\n",
    "lst1"
   ]
  },
  {
   "cell_type": "markdown",
   "id": "5d6202a9",
   "metadata": {},
   "source": [
    "### List operations"
   ]
  },
  {
   "cell_type": "code",
   "execution_count": 40,
   "id": "8c3b97d5",
   "metadata": {},
   "outputs": [
    {
     "name": "stdout",
     "output_type": "stream",
     "text": [
      "34\n"
     ]
    }
   ],
   "source": [
    "sum = 0\n",
    "for i in lst1:\n",
    "    sum=sum+i\n",
    "print(sum)\n",
    "# lsk = [4,56,7,3,2]\n",
    "# sum(lsk)"
   ]
  },
  {
   "cell_type": "code",
   "execution_count": 41,
   "id": "fa60c168",
   "metadata": {},
   "outputs": [
    {
     "name": "stdout",
     "output_type": "stream",
     "text": [
      "16\n"
     ]
    }
   ],
   "source": [
    "ls=[2,4,5,5]\n",
    "count=0\n",
    "for i in ls:\n",
    "    count=count+i\n",
    "print(count) "
   ]
  },
  {
   "cell_type": "markdown",
   "id": "b0f3a2fd",
   "metadata": {},
   "source": [
    "### pop method"
   ]
  },
  {
   "cell_type": "code",
   "execution_count": 42,
   "id": "2adcda89",
   "metadata": {},
   "outputs": [
    {
     "data": {
      "text/plain": [
       "8"
      ]
     },
     "execution_count": 42,
     "metadata": {},
     "output_type": "execute_result"
    }
   ],
   "source": [
    "# pop\n",
    "lst1.pop()  # any or last element by default"
   ]
  },
  {
   "cell_type": "code",
   "execution_count": 43,
   "id": "eb8d7f88",
   "metadata": {},
   "outputs": [
    {
     "data": {
      "text/plain": [
       "2"
      ]
     },
     "execution_count": 43,
     "metadata": {},
     "output_type": "execute_result"
    }
   ],
   "source": [
    "lst1.pop(0)\n"
   ]
  },
  {
   "cell_type": "code",
   "execution_count": 44,
   "id": "ad7eb0de",
   "metadata": {},
   "outputs": [
    {
     "name": "stdout",
     "output_type": "stream",
     "text": [
      "[2, 6, 3, 4, 9]\n"
     ]
    }
   ],
   "source": [
    "print(lst1)"
   ]
  },
  {
   "cell_type": "code",
   "execution_count": 45,
   "id": "a00d7662",
   "metadata": {},
   "outputs": [
    {
     "name": "stdout",
     "output_type": "stream",
     "text": [
      "[2, 6, 4, 9]\n"
     ]
    }
   ],
   "source": [
    "lst1.remove(3)\n",
    "print(lst1)"
   ]
  },
  {
   "cell_type": "code",
   "execution_count": 46,
   "id": "8318a86e",
   "metadata": {},
   "outputs": [
    {
     "data": {
      "text/plain": [
       "[2, 6, 4, 9, 2, 6, 4, 9]"
      ]
     },
     "execution_count": 46,
     "metadata": {},
     "output_type": "execute_result"
    }
   ],
   "source": [
    "lst1*2"
   ]
  },
  {
   "cell_type": "code",
   "execution_count": 47,
   "id": "35e8b5aa",
   "metadata": {},
   "outputs": [
    {
     "data": {
      "text/plain": [
       "5"
      ]
     },
     "execution_count": 47,
     "metadata": {},
     "output_type": "execute_result"
    }
   ],
   "source": [
    "ls.pop(2)"
   ]
  },
  {
   "cell_type": "code",
   "execution_count": 48,
   "id": "d8919193",
   "metadata": {},
   "outputs": [
    {
     "name": "stdout",
     "output_type": "stream",
     "text": [
      "[2, 4, 5]\n"
     ]
    }
   ],
   "source": [
    "print(ls)"
   ]
  },
  {
   "cell_type": "markdown",
   "id": "3093da54",
   "metadata": {},
   "source": [
    "### count() total occurence of an element in a list"
   ]
  },
  {
   "cell_type": "code",
   "execution_count": 49,
   "id": "193872c7",
   "metadata": {},
   "outputs": [
    {
     "data": {
      "text/plain": [
       "1"
      ]
     },
     "execution_count": 49,
     "metadata": {},
     "output_type": "execute_result"
    }
   ],
   "source": [
    "lst1.count(2)"
   ]
  },
  {
   "cell_type": "code",
   "execution_count": 50,
   "id": "c057d696",
   "metadata": {},
   "outputs": [
    {
     "data": {
      "text/plain": [
       "[2, 6, 4, 9]"
      ]
     },
     "execution_count": 50,
     "metadata": {},
     "output_type": "execute_result"
    }
   ],
   "source": [
    "lst1"
   ]
  },
  {
   "cell_type": "code",
   "execution_count": 51,
   "id": "b52479e0",
   "metadata": {},
   "outputs": [],
   "source": [
    "# type(ls)\n",
    "# sum(ls)"
   ]
  },
  {
   "cell_type": "code",
   "execution_count": 52,
   "id": "a1eb187d",
   "metadata": {},
   "outputs": [
    {
     "data": {
      "text/plain": [
       "1"
      ]
     },
     "execution_count": 52,
     "metadata": {},
     "output_type": "execute_result"
    }
   ],
   "source": [
    "lst1\n",
    "lst1.index(6) #returns the index of the first element occurence"
   ]
  },
  {
   "cell_type": "code",
   "execution_count": 53,
   "id": "dfc866e1",
   "metadata": {},
   "outputs": [
    {
     "data": {
      "text/plain": [
       "2"
      ]
     },
     "execution_count": 53,
     "metadata": {},
     "output_type": "execute_result"
    }
   ],
   "source": [
    "min(lst1)"
   ]
  },
  {
   "cell_type": "code",
   "execution_count": 54,
   "id": "fd30bf6b",
   "metadata": {},
   "outputs": [
    {
     "data": {
      "text/plain": [
       "9"
      ]
     },
     "execution_count": 54,
     "metadata": {},
     "output_type": "execute_result"
    }
   ],
   "source": [
    "max(lst1)"
   ]
  },
  {
   "cell_type": "code",
   "execution_count": 55,
   "id": "0446cd43",
   "metadata": {},
   "outputs": [
    {
     "data": {
      "text/plain": [
       "[2, 4, 5, 2, 4, 5, 2, 4, 5, 2, 4, 5]"
      ]
     },
     "execution_count": 55,
     "metadata": {},
     "output_type": "execute_result"
    }
   ],
   "source": [
    "ls*4"
   ]
  },
  {
   "cell_type": "markdown",
   "id": "2fd14383",
   "metadata": {},
   "source": [
    "## SETS\n",
    "unordered collection data type that iterable, mutable, has no duplicate\n",
    "\n",
    "no index no duplicate unchangeable it is known as hash table"
   ]
  },
  {
   "cell_type": "code",
   "execution_count": 56,
   "id": "55544939",
   "metadata": {},
   "outputs": [
    {
     "data": {
      "text/plain": [
       "set()"
      ]
     },
     "execution_count": 56,
     "metadata": {},
     "output_type": "execute_result"
    }
   ],
   "source": [
    "set1=set()\n",
    "set1"
   ]
  },
  {
   "cell_type": "code",
   "execution_count": 57,
   "id": "0f4bf0d8",
   "metadata": {},
   "outputs": [
    {
     "name": "stdout",
     "output_type": "stream",
     "text": [
      "{2, 3, 4, 5, 6, 7}\n",
      "{2, 3, 4, 5, 6, 7, 'sms'}\n"
     ]
    }
   ],
   "source": [
    "a= {2,2,2,2,4,3,5,3,5,6,7}#no duplicate \n",
    "print(a)\n",
    "a.add('sms')\n",
    "print(a)"
   ]
  },
  {
   "cell_type": "code",
   "execution_count": 58,
   "id": "7f2fab58",
   "metadata": {},
   "outputs": [
    {
     "data": {
      "text/plain": [
       "set"
      ]
     },
     "execution_count": 58,
     "metadata": {},
     "output_type": "execute_result"
    }
   ],
   "source": [
    "type(set1)"
   ]
  },
  {
   "cell_type": "code",
   "execution_count": 59,
   "id": "37d9840d",
   "metadata": {},
   "outputs": [
    {
     "data": {
      "text/plain": [
       "{'american', 'bollywood', 'nollywood'}"
      ]
     },
     "execution_count": 59,
     "metadata": {},
     "output_type": "execute_result"
    }
   ],
   "source": [
    "movie={'american','nollywood','bollywood'}\n",
    "movie"
   ]
  },
  {
   "cell_type": "code",
   "execution_count": 60,
   "id": "c53b352e",
   "metadata": {},
   "outputs": [
    {
     "data": {
      "text/plain": [
       "set"
      ]
     },
     "execution_count": 60,
     "metadata": {},
     "output_type": "execute_result"
    }
   ],
   "source": [
    "type(movie)"
   ]
  },
  {
   "cell_type": "code",
   "execution_count": 61,
   "id": "8a35e489",
   "metadata": {},
   "outputs": [
    {
     "name": "stdout",
     "output_type": "stream",
     "text": [
      "{'american', 'bollywood', 'nollywood'}\n",
      "{'american', 'bollywood', 'nollywood'}\n",
      "{'american', 'bollywood', 'nollywood'}\n"
     ]
    }
   ],
   "source": [
    "for i in movie:\n",
    "    print(movie)"
   ]
  },
  {
   "cell_type": "code",
   "execution_count": 62,
   "id": "5c4e3b9b",
   "metadata": {},
   "outputs": [
    {
     "data": {
      "text/plain": [
       "{'action', 'american', 'bollywood', 'nollywood'}"
      ]
     },
     "execution_count": 62,
     "metadata": {},
     "output_type": "execute_result"
    }
   ],
   "source": [
    "# inbuilt function in set\n",
    "movie.add('action')\n",
    "movie"
   ]
  },
  {
   "cell_type": "code",
   "execution_count": 63,
   "id": "3cbc6f53",
   "metadata": {},
   "outputs": [
    {
     "data": {
      "text/plain": [
       "{'action', 'american', 'bollywood', 'nollywood'}"
      ]
     },
     "execution_count": 63,
     "metadata": {},
     "output_type": "execute_result"
    }
   ],
   "source": [
    "movie"
   ]
  },
  {
   "cell_type": "code",
   "execution_count": 64,
   "id": "112ebc63",
   "metadata": {},
   "outputs": [],
   "source": [
    "movie1={'american','nollywood','bollywood'}\n",
    "movie2={'american','nollywood','bollywood','hollywood'}"
   ]
  },
  {
   "cell_type": "code",
   "execution_count": 65,
   "id": "8b67d642",
   "metadata": {},
   "outputs": [
    {
     "data": {
      "text/plain": [
       "{'hollywood'}"
      ]
     },
     "execution_count": 65,
     "metadata": {},
     "output_type": "execute_result"
    }
   ],
   "source": [
    "movie2.difference(movie1)"
   ]
  },
  {
   "cell_type": "markdown",
   "id": "d4a5c876",
   "metadata": {},
   "source": [
    "## Dictionaries\n",
    "is a collection of unordered changeable and indexed they have keys and values"
   ]
  },
  {
   "cell_type": "code",
   "execution_count": 66,
   "id": "fbd6cf97",
   "metadata": {},
   "outputs": [
    {
     "data": {
      "text/plain": [
       "{}"
      ]
     },
     "execution_count": 66,
     "metadata": {},
     "output_type": "execute_result"
    }
   ],
   "source": [
    "dict()"
   ]
  },
  {
   "cell_type": "code",
   "execution_count": 67,
   "id": "83604a31",
   "metadata": {},
   "outputs": [
    {
     "data": {
      "text/plain": [
       "dict"
      ]
     },
     "execution_count": 67,
     "metadata": {},
     "output_type": "execute_result"
    }
   ],
   "source": [
    "type(dict())"
   ]
  },
  {
   "cell_type": "code",
   "execution_count": 68,
   "id": "1b9a620d",
   "metadata": {},
   "outputs": [],
   "source": [
    "dic={'name':'emma','name2':'tayo','name3':'femi'}"
   ]
  },
  {
   "cell_type": "code",
   "execution_count": 69,
   "id": "7246b88b",
   "metadata": {},
   "outputs": [
    {
     "data": {
      "text/plain": [
       "{'name': 'emma', 'name2': 'tayo', 'name3': 'femi'}"
      ]
     },
     "execution_count": 69,
     "metadata": {},
     "output_type": "execute_result"
    }
   ],
   "source": [
    "dic"
   ]
  },
  {
   "cell_type": "code",
   "execution_count": 70,
   "id": "ba74c5ee",
   "metadata": {},
   "outputs": [
    {
     "data": {
      "text/plain": [
       "dict_keys(['name', 'name2', 'name3'])"
      ]
     },
     "execution_count": 70,
     "metadata": {},
     "output_type": "execute_result"
    }
   ],
   "source": [
    "dic.keys()"
   ]
  },
  {
   "cell_type": "code",
   "execution_count": 71,
   "id": "03e97025",
   "metadata": {},
   "outputs": [
    {
     "data": {
      "text/plain": [
       "dict_values(['emma', 'tayo', 'femi'])"
      ]
     },
     "execution_count": 71,
     "metadata": {},
     "output_type": "execute_result"
    }
   ],
   "source": [
    "dic.values()"
   ]
  },
  {
   "cell_type": "code",
   "execution_count": 72,
   "id": "49c188e3",
   "metadata": {},
   "outputs": [
    {
     "data": {
      "text/plain": [
       "'tayo'"
      ]
     },
     "execution_count": 72,
     "metadata": {},
     "output_type": "execute_result"
    }
   ],
   "source": [
    "# access item values\n",
    "dic['name2']"
   ]
  },
  {
   "cell_type": "code",
   "execution_count": 73,
   "id": "6e93b7d8",
   "metadata": {},
   "outputs": [
    {
     "name": "stdout",
     "output_type": "stream",
     "text": [
      "name\n",
      "name2\n",
      "name3\n"
     ]
    }
   ],
   "source": [
    "# loop  through a dictionary keys\n",
    "for x in dic.keys():\n",
    "    print(x)"
   ]
  },
  {
   "cell_type": "code",
   "execution_count": 74,
   "id": "70df35f7",
   "metadata": {},
   "outputs": [
    {
     "name": "stdout",
     "output_type": "stream",
     "text": [
      "emma\n",
      "tayo\n",
      "femi\n"
     ]
    }
   ],
   "source": [
    "for x in dic.values():  #for the value pairs\n",
    "    print(x)"
   ]
  },
  {
   "cell_type": "code",
   "execution_count": 75,
   "id": "b9940544",
   "metadata": {},
   "outputs": [
    {
     "name": "stdout",
     "output_type": "stream",
     "text": [
      "('name', 'emma')\n",
      "('name2', 'tayo')\n",
      "('name3', 'femi')\n"
     ]
    }
   ],
   "source": [
    "for x in dic.items():\n",
    "    print(x)"
   ]
  },
  {
   "cell_type": "code",
   "execution_count": 76,
   "id": "bf4e8836",
   "metadata": {},
   "outputs": [],
   "source": [
    "dic['name4']='tolu' #changeable"
   ]
  },
  {
   "cell_type": "code",
   "execution_count": 77,
   "id": "f2729b00",
   "metadata": {},
   "outputs": [
    {
     "data": {
      "text/plain": [
       "{'name': 'emma', 'name2': 'tayo', 'name3': 'femi', 'name4': 'tolu'}"
      ]
     },
     "execution_count": 77,
     "metadata": {},
     "output_type": "execute_result"
    }
   ],
   "source": [
    "dic"
   ]
  },
  {
   "cell_type": "code",
   "execution_count": 78,
   "id": "c1602b5b",
   "metadata": {},
   "outputs": [
    {
     "data": {
      "text/plain": [
       "{'name': 'ope', 'name2': 'tayo', 'name3': 'femi', 'name4': 'tolu'}"
      ]
     },
     "execution_count": 78,
     "metadata": {},
     "output_type": "execute_result"
    }
   ],
   "source": [
    "dic['name']='ope'\n",
    "dic"
   ]
  },
  {
   "cell_type": "markdown",
   "id": "1a721413",
   "metadata": {},
   "source": [
    "## Nexted Dictionary"
   ]
  },
  {
   "cell_type": "code",
   "execution_count": 79,
   "id": "553c3488",
   "metadata": {
    "scrolled": true
   },
   "outputs": [
    {
     "data": {
      "text/plain": [
       "{'car1': {'mercedes': 1960},\n",
       " 'car2': {'audi': 1970},\n",
       " 'car3': {'ambassador': 1980}}"
      ]
     },
     "execution_count": 79,
     "metadata": {},
     "output_type": "execute_result"
    }
   ],
   "source": [
    "car1_model= {'mercedes':1960}\n",
    "car2_model={'audi':1970}\n",
    "car3_model={'ambassador': 1980}\n",
    "\n",
    "car_type= {'car1':car1_model,'car2':car2_model,'car3':car3_model}\n",
    "car_type"
   ]
  },
  {
   "cell_type": "code",
   "execution_count": 80,
   "id": "9188388b",
   "metadata": {},
   "outputs": [
    {
     "data": {
      "text/plain": [
       "{'mercedes': 1960}"
      ]
     },
     "execution_count": 80,
     "metadata": {},
     "output_type": "execute_result"
    }
   ],
   "source": [
    "# accessing the items in the dictionary\n",
    "car_type['car1']"
   ]
  },
  {
   "cell_type": "code",
   "execution_count": 81,
   "id": "0cdb92a3",
   "metadata": {},
   "outputs": [],
   "source": [
    "car1_model['audi']= 9033"
   ]
  },
  {
   "cell_type": "code",
   "execution_count": 82,
   "id": "a1126d3f",
   "metadata": {},
   "outputs": [
    {
     "data": {
      "text/plain": [
       "1960"
      ]
     },
     "execution_count": 82,
     "metadata": {},
     "output_type": "execute_result"
    }
   ],
   "source": [
    "car_type['car1']['mercedes']"
   ]
  },
  {
   "cell_type": "code",
   "execution_count": 83,
   "id": "8b6ce3ae",
   "metadata": {},
   "outputs": [
    {
     "data": {
      "text/plain": [
       "{'car1': {'mercedes': 1960, 'audi': 9033},\n",
       " 'car2': {'audi': 1970},\n",
       " 'car3': {'ambassador': 1980}}"
      ]
     },
     "execution_count": 83,
     "metadata": {},
     "output_type": "execute_result"
    }
   ],
   "source": [
    "car_type"
   ]
  },
  {
   "cell_type": "markdown",
   "id": "79afbb68",
   "metadata": {},
   "source": [
    "## Tuples"
   ]
  },
  {
   "cell_type": "markdown",
   "id": "c5e4dd1c",
   "metadata": {},
   "source": [
    "### unchangeble immutable indexed\n",
    " create an empty "
   ]
  },
  {
   "cell_type": "code",
   "execution_count": 84,
   "id": "86c63e87",
   "metadata": {},
   "outputs": [
    {
     "data": {
      "text/plain": [
       "()"
      ]
     },
     "execution_count": 84,
     "metadata": {},
     "output_type": "execute_result"
    }
   ],
   "source": [
    "tuples=tuple()\n",
    "tuples"
   ]
  },
  {
   "cell_type": "code",
   "execution_count": 85,
   "id": "8daf477c",
   "metadata": {},
   "outputs": [
    {
     "data": {
      "text/plain": [
       "tuple"
      ]
     },
     "execution_count": 85,
     "metadata": {},
     "output_type": "execute_result"
    }
   ],
   "source": [
    "type(tuples)"
   ]
  },
  {
   "cell_type": "code",
   "execution_count": 86,
   "id": "02b2e14e",
   "metadata": {},
   "outputs": [
    {
     "data": {
      "text/plain": [
       "'remi'"
      ]
     },
     "execution_count": 86,
     "metadata": {},
     "output_type": "execute_result"
    }
   ],
   "source": [
    "tuples=('remi','mr_krish', 'emma', 'emma')\n",
    "tuples[0]"
   ]
  },
  {
   "cell_type": "code",
   "execution_count": 87,
   "id": "a11f9199",
   "metadata": {},
   "outputs": [
    {
     "data": {
      "text/plain": [
       "tuple"
      ]
     },
     "execution_count": 87,
     "metadata": {},
     "output_type": "execute_result"
    }
   ],
   "source": [
    "type(tuples)"
   ]
  },
  {
   "cell_type": "code",
   "execution_count": 88,
   "id": "604d4f81",
   "metadata": {},
   "outputs": [
    {
     "data": {
      "text/plain": [
       "('remi', 'world')"
      ]
     },
     "execution_count": 88,
     "metadata": {},
     "output_type": "execute_result"
    }
   ],
   "source": [
    "my_tuples=('remi','world')\n",
    "my_tuples"
   ]
  },
  {
   "cell_type": "code",
   "execution_count": 89,
   "id": "ce4a7202",
   "metadata": {},
   "outputs": [
    {
     "data": {
      "text/plain": [
       "2"
      ]
     },
     "execution_count": 89,
     "metadata": {},
     "output_type": "execute_result"
    }
   ],
   "source": [
    "# inbuilt function\n",
    "tuples.count('emma')"
   ]
  },
  {
   "cell_type": "code",
   "execution_count": 90,
   "id": "64e9c42d",
   "metadata": {},
   "outputs": [
    {
     "data": {
      "text/plain": [
       "1"
      ]
     },
     "execution_count": 90,
     "metadata": {},
     "output_type": "execute_result"
    }
   ],
   "source": [
    "# indexed\n",
    "tuples.index('mr_krish')"
   ]
  },
  {
   "cell_type": "markdown",
   "id": "59e53423",
   "metadata": {},
   "source": [
    "## importing Numpy "
   ]
  },
  {
   "cell_type": "code",
   "execution_count": 91,
   "id": "d2d6d704",
   "metadata": {},
   "outputs": [],
   "source": [
    "# import numpy\n",
    "import numpy as np"
   ]
  },
  {
   "cell_type": "code",
   "execution_count": 92,
   "id": "ef4f1f47",
   "metadata": {},
   "outputs": [],
   "source": [
    "name=['dan','sam']\n",
    "names=np.array(name)"
   ]
  },
  {
   "cell_type": "code",
   "execution_count": 93,
   "id": "186cece2",
   "metadata": {},
   "outputs": [
    {
     "data": {
      "text/plain": [
       "(2,)"
      ]
     },
     "execution_count": 93,
     "metadata": {},
     "output_type": "execute_result"
    }
   ],
   "source": [
    "names.shape"
   ]
  },
  {
   "cell_type": "markdown",
   "id": "019f2703",
   "metadata": {},
   "source": [
    "# Numpy\n",
    "Numpy is a general purpose array-processing, it provide single and  multi-dimensional array object and tools for working with arrays\n",
    "<!--  -->scientific computing"
   ]
  },
  {
   "cell_type": "markdown",
   "id": "bcc83697",
   "metadata": {},
   "source": [
    "array are data structure that store value of the same data types\n",
    "\n",
    "list values of the same different data types\n",
    "numpy values of the same dtypes"
   ]
  },
  {
   "cell_type": "code",
   "execution_count": 94,
   "id": "8b4c5e6d",
   "metadata": {},
   "outputs": [
    {
     "name": "stdout",
     "output_type": "stream",
     "text": [
      "8\n"
     ]
    }
   ],
   "source": [
    "my_list= [2,3,56,5,8,1]\n",
    "arr = np.array(my_list)\n",
    "print(arr[4])"
   ]
  },
  {
   "cell_type": "code",
   "execution_count": 95,
   "id": "d0ddcaa1",
   "metadata": {},
   "outputs": [
    {
     "data": {
      "text/plain": [
       "numpy.ndarray"
      ]
     },
     "execution_count": 95,
     "metadata": {},
     "output_type": "execute_result"
    }
   ],
   "source": [
    "type(arr)"
   ]
  },
  {
   "cell_type": "code",
   "execution_count": 96,
   "id": "76db72ae",
   "metadata": {},
   "outputs": [
    {
     "data": {
      "text/plain": [
       "(6,)"
      ]
     },
     "execution_count": 96,
     "metadata": {},
     "output_type": "execute_result"
    }
   ],
   "source": [
    "arr.shape"
   ]
  },
  {
   "cell_type": "code",
   "execution_count": 97,
   "id": "2071d337",
   "metadata": {},
   "outputs": [
    {
     "data": {
      "text/plain": [
       "<function ndarray.reshape>"
      ]
     },
     "execution_count": 97,
     "metadata": {},
     "output_type": "execute_result"
    }
   ],
   "source": [
    "arr.reshape"
   ]
  },
  {
   "cell_type": "code",
   "execution_count": 98,
   "id": "e68da0a3",
   "metadata": {},
   "outputs": [
    {
     "data": {
      "text/plain": [
       "array([ 2,  3, 56,  5,  8,  1])"
      ]
     },
     "execution_count": 98,
     "metadata": {},
     "output_type": "execute_result"
    }
   ],
   "source": [
    "arr"
   ]
  },
  {
   "cell_type": "code",
   "execution_count": 99,
   "id": "ebedfa55",
   "metadata": {},
   "outputs": [],
   "source": [
    "list2=[3,4,5,5,7]\n",
    "list3=[4,5,6,7,8]\n",
    "list4=[2,4,5,6,8]\n",
    "arrr=np.array([list2,list3,list4])"
   ]
  },
  {
   "cell_type": "code",
   "execution_count": 100,
   "id": "a90ace1e",
   "metadata": {},
   "outputs": [
    {
     "data": {
      "text/plain": [
       "array([[3, 4, 5, 5, 7],\n",
       "       [4, 5, 6, 7, 8],\n",
       "       [2, 4, 5, 6, 8]])"
      ]
     },
     "execution_count": 100,
     "metadata": {},
     "output_type": "execute_result"
    }
   ],
   "source": [
    "arrr"
   ]
  },
  {
   "cell_type": "code",
   "execution_count": 101,
   "id": "83cdd609",
   "metadata": {},
   "outputs": [
    {
     "data": {
      "text/plain": [
       "array([[7, 8],\n",
       "       [6, 8]])"
      ]
     },
     "execution_count": 101,
     "metadata": {},
     "output_type": "execute_result"
    }
   ],
   "source": [
    "arrr[1:,3:]"
   ]
  },
  {
   "cell_type": "code",
   "execution_count": 102,
   "id": "4b7378e0",
   "metadata": {},
   "outputs": [
    {
     "data": {
      "text/plain": [
       "(3, 5)"
      ]
     },
     "execution_count": 102,
     "metadata": {},
     "output_type": "execute_result"
    }
   ],
   "source": [
    "arrr.shape"
   ]
  },
  {
   "cell_type": "code",
   "execution_count": 103,
   "id": "2b10290c",
   "metadata": {},
   "outputs": [],
   "source": [
    "# arrr.reshape(5,3)"
   ]
  },
  {
   "cell_type": "code",
   "execution_count": 104,
   "id": "9bd356a0",
   "metadata": {},
   "outputs": [
    {
     "data": {
      "text/plain": [
       "6"
      ]
     },
     "execution_count": 104,
     "metadata": {},
     "output_type": "execute_result"
    }
   ],
   "source": [
    "arrr[2,3]"
   ]
  },
  {
   "cell_type": "code",
   "execution_count": 105,
   "id": "c272c6a8",
   "metadata": {},
   "outputs": [
    {
     "data": {
      "text/plain": [
       "array([[5, 5],\n",
       "       [6, 7]])"
      ]
     },
     "execution_count": 105,
     "metadata": {},
     "output_type": "execute_result"
    }
   ],
   "source": [
    "arrr[0:2,2:4]"
   ]
  },
  {
   "cell_type": "code",
   "execution_count": 106,
   "id": "f90938d0",
   "metadata": {},
   "outputs": [
    {
     "data": {
      "text/plain": [
       "array([[4, 5],\n",
       "       [2, 4]])"
      ]
     },
     "execution_count": 106,
     "metadata": {},
     "output_type": "execute_result"
    }
   ],
   "source": [
    "arrr[1:,0:2]"
   ]
  },
  {
   "cell_type": "code",
   "execution_count": 107,
   "id": "9671f6ab",
   "metadata": {},
   "outputs": [
    {
     "data": {
      "text/plain": [
       "array([[5, 7],\n",
       "       [7, 8]])"
      ]
     },
     "execution_count": 107,
     "metadata": {},
     "output_type": "execute_result"
    }
   ],
   "source": [
    "arrr[0:2,3:]"
   ]
  },
  {
   "cell_type": "code",
   "execution_count": 108,
   "id": "8e152dda",
   "metadata": {},
   "outputs": [
    {
     "data": {
      "text/plain": [
       "array([ 0,  2,  4,  6,  8, 10])"
      ]
     },
     "execution_count": 108,
     "metadata": {},
     "output_type": "execute_result"
    }
   ],
   "source": [
    "arr5=np.arange(0,11,step=2)\n",
    "arr5"
   ]
  },
  {
   "cell_type": "code",
   "execution_count": 109,
   "id": "c4892f71",
   "metadata": {},
   "outputs": [
    {
     "data": {
      "text/plain": [
       "array([ 1.        ,  1.47368421,  1.94736842,  2.42105263,  2.89473684,\n",
       "        3.36842105,  3.84210526,  4.31578947,  4.78947368,  5.26315789,\n",
       "        5.73684211,  6.21052632,  6.68421053,  7.15789474,  7.63157895,\n",
       "        8.10526316,  8.57894737,  9.05263158,  9.52631579, 10.        ])"
      ]
     },
     "execution_count": 109,
     "metadata": {},
     "output_type": "execute_result"
    }
   ],
   "source": [
    "np.linspace(1,10,20)"
   ]
  },
  {
   "cell_type": "code",
   "execution_count": 110,
   "id": "aa282999",
   "metadata": {},
   "outputs": [
    {
     "data": {
      "text/plain": [
       "array([  2,   3, 100, 100, 100, 100])"
      ]
     },
     "execution_count": 110,
     "metadata": {},
     "output_type": "execute_result"
    }
   ],
   "source": [
    "# copy() function and broadcasting\n",
    "\n",
    "arr[2:]=100\n",
    "arr"
   ]
  },
  {
   "cell_type": "code",
   "execution_count": 111,
   "id": "6ac9d9f2",
   "metadata": {},
   "outputs": [],
   "source": [
    " ary=arr"
   ]
  },
  {
   "cell_type": "code",
   "execution_count": 112,
   "id": "5ca27627",
   "metadata": {},
   "outputs": [
    {
     "data": {
      "text/plain": [
       "array([  2,   3, 100, 100, 100, 100])"
      ]
     },
     "execution_count": 112,
     "metadata": {},
     "output_type": "execute_result"
    }
   ],
   "source": [
    "ary[2:]=100\n",
    "ary   #reference type"
   ]
  },
  {
   "cell_type": "code",
   "execution_count": 113,
   "id": "a1ca027b",
   "metadata": {},
   "outputs": [
    {
     "data": {
      "text/plain": [
       "array([  2,   3, 100, 100, 100, 100])"
      ]
     },
     "execution_count": 113,
     "metadata": {},
     "output_type": "execute_result"
    }
   ],
   "source": [
    "ary=arr.copy()\n",
    "ary"
   ]
  },
  {
   "cell_type": "code",
   "execution_count": 114,
   "id": "89209592",
   "metadata": {},
   "outputs": [
    {
     "data": {
      "text/plain": [
       "array([  2,   3, 100, 700, 700, 700])"
      ]
     },
     "execution_count": 114,
     "metadata": {},
     "output_type": "execute_result"
    }
   ],
   "source": [
    "ary[3:]= 700\n",
    "ary"
   ]
  },
  {
   "cell_type": "code",
   "execution_count": 115,
   "id": "9ca42260",
   "metadata": {},
   "outputs": [
    {
     "data": {
      "text/plain": [
       "array([2, 3])"
      ]
     },
     "execution_count": 115,
     "metadata": {},
     "output_type": "execute_result"
    }
   ],
   "source": [
    "# some conditions very useful in exploratory data analysis\n",
    "val=2\n",
    "arr<val\n",
    "arr[arr<12]"
   ]
  },
  {
   "cell_type": "code",
   "execution_count": 116,
   "id": "6ebd90fc",
   "metadata": {},
   "outputs": [
    {
     "data": {
      "text/plain": [
       "array([  4,   6, 200, 200, 200, 200])"
      ]
     },
     "execution_count": 116,
     "metadata": {},
     "output_type": "execute_result"
    }
   ],
   "source": [
    "arr*2"
   ]
  },
  {
   "cell_type": "code",
   "execution_count": 117,
   "id": "fe7b1e27",
   "metadata": {},
   "outputs": [
    {
     "data": {
      "text/plain": [
       "array([[0, 1],\n",
       "       [2, 3],\n",
       "       [4, 5],\n",
       "       [6, 7],\n",
       "       [8, 9]])"
      ]
     },
     "execution_count": 117,
     "metadata": {},
     "output_type": "execute_result"
    }
   ],
   "source": [
    "np.arange(0,10).reshape(5,2) #range and reshaping"
   ]
  },
  {
   "cell_type": "code",
   "execution_count": 118,
   "id": "09696418",
   "metadata": {},
   "outputs": [],
   "source": [
    "ary1=np.arange(0,10).reshape(5,2) #range and reshaping"
   ]
  },
  {
   "cell_type": "code",
   "execution_count": 119,
   "id": "e4515b77",
   "metadata": {},
   "outputs": [],
   "source": [
    "ary2=np.arange(0,10).reshape(2,5) #range and reshaping"
   ]
  },
  {
   "cell_type": "code",
   "execution_count": 120,
   "id": "d4cb88bc",
   "metadata": {},
   "outputs": [
    {
     "data": {
      "text/plain": [
       "array([ 4, 30,  6,  8])"
      ]
     },
     "execution_count": 120,
     "metadata": {},
     "output_type": "execute_result"
    }
   ],
   "source": [
    "arr1=[2,6,3,4]\n",
    "arr2=[2,5,2,2]\n",
    "np_arr1=np.array(arr1)\n",
    "np_arr2=np.array(arr2)\n",
    "np_arr1*np_arr2"
   ]
  },
  {
   "cell_type": "code",
   "execution_count": 121,
   "id": "010e7252",
   "metadata": {},
   "outputs": [
    {
     "data": {
      "text/plain": [
       "array([1, 1])"
      ]
     },
     "execution_count": 121,
     "metadata": {},
     "output_type": "execute_result"
    }
   ],
   "source": [
    "np.ones(2, dtype=int)"
   ]
  },
  {
   "cell_type": "code",
   "execution_count": 122,
   "id": "5a36abae",
   "metadata": {},
   "outputs": [
    {
     "data": {
      "text/plain": [
       "array([[1., 1., 1., 1., 1.],\n",
       "       [1., 1., 1., 1., 1.]])"
      ]
     },
     "execution_count": 122,
     "metadata": {},
     "output_type": "execute_result"
    }
   ],
   "source": [
    "np.ones((2,5), dtype=float)"
   ]
  },
  {
   "cell_type": "code",
   "execution_count": 123,
   "id": "35fe5519",
   "metadata": {
    "scrolled": true
   },
   "outputs": [
    {
     "data": {
      "text/plain": [
       "array([[0.14618791, 0.59995873, 0.39669707],\n",
       "       [0.19268124, 0.45754652, 0.50048559],\n",
       "       [0.7050089 , 0.16052988, 0.05618471]])"
      ]
     },
     "execution_count": 123,
     "metadata": {},
     "output_type": "execute_result"
    }
   ],
   "source": [
    "# random distribution\n",
    "np.random.rand(3,3)"
   ]
  },
  {
   "cell_type": "code",
   "execution_count": 124,
   "id": "4c134668",
   "metadata": {},
   "outputs": [
    {
     "data": {
      "text/plain": [
       "array([[-0.47925377, -0.87930759,  0.20217431,  0.30681354],\n",
       "       [-1.38478727, -1.48861635, -0.23478381, -1.22736688],\n",
       "       [ 1.94431856, -0.78801807,  0.14787066,  1.60891711],\n",
       "       [ 0.58724689, -0.20227135, -1.7142713 , -1.13025944]])"
      ]
     },
     "execution_count": 124,
     "metadata": {},
     "output_type": "execute_result"
    }
   ],
   "source": [
    "arr_ex=np.random.randn(4,4)\n",
    "arr_ex"
   ]
  },
  {
   "cell_type": "code",
   "execution_count": 125,
   "id": "5b3aa18e",
   "metadata": {},
   "outputs": [],
   "source": [
    "import seaborn as sns\n",
    "import pandas as pd"
   ]
  },
  {
   "cell_type": "code",
   "execution_count": 126,
   "id": "1b49da06",
   "metadata": {},
   "outputs": [
    {
     "data": {
      "text/plain": [
       "array([[-0.47925377, -0.87930759,  0.20217431,  0.30681354],\n",
       "       [-1.38478727, -1.48861635, -0.23478381, -1.22736688],\n",
       "       [ 1.94431856, -0.78801807,  0.14787066,  1.60891711],\n",
       "       [ 0.58724689, -0.20227135, -1.7142713 , -1.13025944]])"
      ]
     },
     "execution_count": 126,
     "metadata": {},
     "output_type": "execute_result"
    }
   ],
   "source": [
    "arr_ex.reshape(16,1)\n",
    "arr_ex"
   ]
  },
  {
   "cell_type": "code",
   "execution_count": 127,
   "id": "511d2c8e",
   "metadata": {},
   "outputs": [
    {
     "name": "stderr",
     "output_type": "stream",
     "text": [
      "C:\\Users\\HP\\anaconda3\\lib\\site-packages\\seaborn\\distributions.py:2619: FutureWarning: `distplot` is a deprecated function and will be removed in a future version. Please adapt your code to use either `displot` (a figure-level function with similar flexibility) or `histplot` (an axes-level function for histograms).\n",
      "  warnings.warn(msg, FutureWarning)\n"
     ]
    },
    {
     "data": {
      "text/plain": [
       "<AxesSubplot:ylabel='Density'>"
      ]
     },
     "execution_count": 127,
     "metadata": {},
     "output_type": "execute_result"
    },
    {
     "data": {
      "image/png": "[encoded data removed]",
      "text/plain": [
       "<Figure size 432x288 with 1 Axes>"
      ]
     },
     "metadata": {
      "needs_background": "light"
     },
     "output_type": "display_data"
    }
   ],
   "source": [
    "sns.distplot(pd.DataFrame(arr_ex.reshape(16,1)))\n"
   ]
  },
  {
   "cell_type": "code",
   "execution_count": 128,
   "id": "1b336a27",
   "metadata": {},
   "outputs": [
    {
     "data": {
      "text/plain": [
       "array([[81, 61, 80, 21],\n",
       "       [25, 98, 31, 98]])"
      ]
     },
     "execution_count": 128,
     "metadata": {},
     "output_type": "execute_result"
    }
   ],
   "source": [
    "np.random.randint(0,100,8).reshape(2,4)"
   ]
  },
  {
   "cell_type": "code",
   "execution_count": 129,
   "id": "424a2782",
   "metadata": {},
   "outputs": [
    {
     "data": {
      "text/plain": [
       "array([[[0.66407654, 0.86650261],\n",
       "        [0.08873562, 0.1826882 ],\n",
       "        [0.71438957, 0.84787859],\n",
       "        [0.54033745, 0.47011841],\n",
       "        [0.97334178, 0.36821526]]])"
      ]
     },
     "execution_count": 129,
     "metadata": {},
     "output_type": "execute_result"
    }
   ],
   "source": [
    "np.random.random_sample((1,5,2))"
   ]
  },
  {
   "cell_type": "code",
   "execution_count": null,
   "id": "ffa063c0",
   "metadata": {},
   "outputs": [],
   "source": []
  },
  {
   "cell_type": "markdown",
   "id": "eb287e6a",
   "metadata": {},
   "source": [
    "# indexing"
   ]
  },
  {
   "cell_type": "code",
   "execution_count": null,
   "id": "edc757b6",
   "metadata": {},
   "outputs": [],
   "source": []
  },
  {
   "cell_type": "code",
   "execution_count": 130,
   "id": "346ab03b",
   "metadata": {},
   "outputs": [],
   "source": [
    "# accessing the array element\n",
    "index=[23,4,5,67,8]\n",
    "array=np.array(index)"
   ]
  },
  {
   "cell_type": "code",
   "execution_count": 131,
   "id": "77de8e15",
   "metadata": {},
   "outputs": [
    {
     "data": {
      "text/plain": [
       "[23, 4, 5, 67, 8]"
      ]
     },
     "execution_count": 131,
     "metadata": {},
     "output_type": "execute_result"
    }
   ],
   "source": [
    "index"
   ]
  },
  {
   "cell_type": "code",
   "execution_count": 132,
   "id": "e56e7c0b",
   "metadata": {},
   "outputs": [
    {
     "data": {
      "text/plain": [
       "[4, 5, 67, 8]"
      ]
     },
     "execution_count": 132,
     "metadata": {},
     "output_type": "execute_result"
    }
   ],
   "source": [
    "index[1:]"
   ]
  },
  {
   "cell_type": "code",
   "execution_count": 133,
   "id": "fd2fa775",
   "metadata": {},
   "outputs": [
    {
     "data": {
      "text/plain": [
       "[4, 5]"
      ]
     },
     "execution_count": 133,
     "metadata": {},
     "output_type": "execute_result"
    }
   ],
   "source": [
    "index[1:3]"
   ]
  },
  {
   "cell_type": "code",
   "execution_count": 134,
   "id": "fa0120d8",
   "metadata": {},
   "outputs": [
    {
     "data": {
      "text/plain": [
       "array([23,  4,  5, 67,  8])"
      ]
     },
     "execution_count": 134,
     "metadata": {},
     "output_type": "execute_result"
    }
   ],
   "source": [
    "array"
   ]
  },
  {
   "cell_type": "code",
   "execution_count": 135,
   "id": "f3178525",
   "metadata": {},
   "outputs": [
    {
     "data": {
      "text/plain": [
       "array([4, 5])"
      ]
     },
     "execution_count": 135,
     "metadata": {},
     "output_type": "execute_result"
    }
   ],
   "source": [
    "array[1:3]"
   ]
  },
  {
   "cell_type": "code",
   "execution_count": 136,
   "id": "5b96d801",
   "metadata": {},
   "outputs": [
    {
     "data": {
      "text/plain": [
       "array([[3, 4, 5, 5, 7],\n",
       "       [4, 5, 6, 7, 8],\n",
       "       [2, 4, 5, 6, 8]])"
      ]
     },
     "execution_count": 136,
     "metadata": {},
     "output_type": "execute_result"
    }
   ],
   "source": [
    "arrr"
   ]
  },
  {
   "cell_type": "code",
   "execution_count": 137,
   "id": "a0e6da04",
   "metadata": {},
   "outputs": [
    {
     "data": {
      "text/plain": [
       "array([[3, 4, 5],\n",
       "       [4, 5, 6]])"
      ]
     },
     "execution_count": 137,
     "metadata": {},
     "output_type": "execute_result"
    }
   ],
   "source": [
    "arrr[0:2,0:3]"
   ]
  },
  {
   "cell_type": "code",
   "execution_count": 138,
   "id": "a19ee8fb",
   "metadata": {},
   "outputs": [
    {
     "data": {
      "text/plain": [
       "array([[7, 8],\n",
       "       [6, 8]])"
      ]
     },
     "execution_count": 138,
     "metadata": {},
     "output_type": "execute_result"
    }
   ],
   "source": [
    "arrr[1:,3:]"
   ]
  },
  {
   "cell_type": "code",
   "execution_count": 139,
   "id": "67f2e5e5",
   "metadata": {},
   "outputs": [
    {
     "data": {
      "text/plain": [
       "array([[6, 7],\n",
       "       [5, 6]])"
      ]
     },
     "execution_count": 139,
     "metadata": {},
     "output_type": "execute_result"
    }
   ],
   "source": [
    "arrr[1:,2:4]"
   ]
  },
  {
   "cell_type": "code",
   "execution_count": 140,
   "id": "0f30a1bd",
   "metadata": {},
   "outputs": [],
   "source": [
    "arr4=np.arange(0,9)"
   ]
  },
  {
   "cell_type": "code",
   "execution_count": 141,
   "id": "ff4237e0",
   "metadata": {},
   "outputs": [
    {
     "data": {
      "text/plain": [
       "array([0, 1, 2, 3, 4, 5, 6, 7, 8])"
      ]
     },
     "execution_count": 141,
     "metadata": {},
     "output_type": "execute_result"
    }
   ],
   "source": [
    "arr4"
   ]
  },
  {
   "cell_type": "code",
   "execution_count": null,
   "id": "6dd8714c",
   "metadata": {},
   "outputs": [],
   "source": []
  },
  {
   "cell_type": "markdown",
   "id": "835aaab5",
   "metadata": {},
   "source": [
    "### pandas\n",
    "Pandas is an open source. for data structure and data analysis\n",
    "for reading files e.g csv excel for data pre-processing"
   ]
  },
  {
   "cell_type": "code",
   "execution_count": 142,
   "id": "9d0a2a5a",
   "metadata": {},
   "outputs": [],
   "source": [
    "  import pandas as pd\n",
    "  import numpy as np "
   ]
  },
  {
   "cell_type": "markdown",
   "id": "39db4678",
   "metadata": {},
   "source": [
    "what is dataFrames\n",
    "\n",
    "what is dataSeries\n",
    "\n",
    "operations in Pandas"
   ]
  },
  {
   "cell_type": "code",
   "execution_count": 143,
   "id": "b2c64552",
   "metadata": {},
   "outputs": [],
   "source": [
    "df=pd.DataFrame(np.arange(0,20).reshape(5,4),index=['row1','row2','row3','row4','row5'], columns=[\"column1\",'column2','column3', 'column4'])"
   ]
  },
  {
   "cell_type": "code",
   "execution_count": 144,
   "id": "01702421",
   "metadata": {},
   "outputs": [
    {
     "data": {
      "text/html": [
       "<div>\n",
       "<style scoped>\n",
       "    .dataframe tbody tr th:only-of-type {\n",
       "        vertical-align: middle;\n",
       "    }\n",
       "\n",
       "    .dataframe tbody tr th {\n",
       "        vertical-align: top;\n",
       "    }\n",
       "\n",
       "    .dataframe thead th {\n",
       "        text-align: right;\n",
       "    }\n",
       "</style>\n",
       "<table border=\"1\" class=\"dataframe\">\n",
       "  <thead>\n",
       "    <tr style=\"text-align: right;\">\n",
       "      <th></th>\n",
       "      <th>column1</th>\n",
       "      <th>column2</th>\n",
       "      <th>column3</th>\n",
       "      <th>column4</th>\n",
       "    </tr>\n",
       "  </thead>\n",
       "  <tbody>\n",
       "    <tr>\n",
       "      <th>row1</th>\n",
       "      <td>0</td>\n",
       "      <td>1</td>\n",
       "      <td>2</td>\n",
       "      <td>3</td>\n",
       "    </tr>\n",
       "    <tr>\n",
       "      <th>row2</th>\n",
       "      <td>4</td>\n",
       "      <td>5</td>\n",
       "      <td>6</td>\n",
       "      <td>7</td>\n",
       "    </tr>\n",
       "    <tr>\n",
       "      <th>row3</th>\n",
       "      <td>8</td>\n",
       "      <td>9</td>\n",
       "      <td>10</td>\n",
       "      <td>11</td>\n",
       "    </tr>\n",
       "    <tr>\n",
       "      <th>row4</th>\n",
       "      <td>12</td>\n",
       "      <td>13</td>\n",
       "      <td>14</td>\n",
       "      <td>15</td>\n",
       "    </tr>\n",
       "    <tr>\n",
       "      <th>row5</th>\n",
       "      <td>16</td>\n",
       "      <td>17</td>\n",
       "      <td>18</td>\n",
       "      <td>19</td>\n",
       "    </tr>\n",
       "  </tbody>\n",
       "</table>\n",
       "</div>"
      ],
      "text/plain": [
       "      column1  column2  column3  column4\n",
       "row1        0        1        2        3\n",
       "row2        4        5        6        7\n",
       "row3        8        9       10       11\n",
       "row4       12       13       14       15\n",
       "row5       16       17       18       19"
      ]
     },
     "execution_count": 144,
     "metadata": {},
     "output_type": "execute_result"
    }
   ],
   "source": [
    "df.head()"
   ]
  },
  {
   "cell_type": "code",
   "execution_count": 145,
   "id": "b9fcffe4",
   "metadata": {},
   "outputs": [],
   "source": [
    "df.to_csv('Test.csv')\n"
   ]
  },
  {
   "cell_type": "code",
   "execution_count": 146,
   "id": "6bd53e53",
   "metadata": {},
   "outputs": [
    {
     "data": {
      "text/plain": [
       "column1    0\n",
       "column2    1\n",
       "column3    2\n",
       "column4    3\n",
       "Name: row1, dtype: int32"
      ]
     },
     "execution_count": 146,
     "metadata": {},
     "output_type": "execute_result"
    }
   ],
   "source": [
    "# import matplotlib.pyplot as plt\n",
    "# plt.scatter(df.column1,df.column3)\n",
    "# plt.show()\n",
    "\n",
    "# accessing the element\n",
    "# 1. loc 2. iloc\n",
    "df.loc['row1']"
   ]
  },
  {
   "cell_type": "code",
   "execution_count": 147,
   "id": "80ba01e5",
   "metadata": {},
   "outputs": [
    {
     "data": {
      "text/plain": [
       "pandas.core.indexing._LocIndexer"
      ]
     },
     "execution_count": 147,
     "metadata": {},
     "output_type": "execute_result"
    }
   ],
   "source": [
    " type(df.loc())"
   ]
  },
  {
   "cell_type": "code",
   "execution_count": 148,
   "id": "859b3524",
   "metadata": {},
   "outputs": [
    {
     "data": {
      "text/html": [
       "<div>\n",
       "<style scoped>\n",
       "    .dataframe tbody tr th:only-of-type {\n",
       "        vertical-align: middle;\n",
       "    }\n",
       "\n",
       "    .dataframe tbody tr th {\n",
       "        vertical-align: top;\n",
       "    }\n",
       "\n",
       "    .dataframe thead th {\n",
       "        text-align: right;\n",
       "    }\n",
       "</style>\n",
       "<table border=\"1\" class=\"dataframe\">\n",
       "  <thead>\n",
       "    <tr style=\"text-align: right;\">\n",
       "      <th></th>\n",
       "      <th>column1</th>\n",
       "      <th>column2</th>\n",
       "    </tr>\n",
       "  </thead>\n",
       "  <tbody>\n",
       "    <tr>\n",
       "      <th>row1</th>\n",
       "      <td>0</td>\n",
       "      <td>1</td>\n",
       "    </tr>\n",
       "    <tr>\n",
       "      <th>row2</th>\n",
       "      <td>4</td>\n",
       "      <td>5</td>\n",
       "    </tr>\n",
       "  </tbody>\n",
       "</table>\n",
       "</div>"
      ],
      "text/plain": [
       "      column1  column2\n",
       "row1        0        1\n",
       "row2        4        5"
      ]
     },
     "execution_count": 148,
     "metadata": {},
     "output_type": "execute_result"
    }
   ],
   "source": [
    "df.iloc[0:2,0:2]"
   ]
  },
  {
   "cell_type": "code",
   "execution_count": 149,
   "id": "61a518f5",
   "metadata": {},
   "outputs": [
    {
     "data": {
      "text/plain": [
       "pandas.core.frame.DataFrame"
      ]
     },
     "execution_count": 149,
     "metadata": {},
     "output_type": "execute_result"
    }
   ],
   "source": [
    "type(df.iloc[0:2,0:2])"
   ]
  },
  {
   "cell_type": "code",
   "execution_count": 150,
   "id": "a077f20d",
   "metadata": {},
   "outputs": [
    {
     "data": {
      "text/html": [
       "<div>\n",
       "<style scoped>\n",
       "    .dataframe tbody tr th:only-of-type {\n",
       "        vertical-align: middle;\n",
       "    }\n",
       "\n",
       "    .dataframe tbody tr th {\n",
       "        vertical-align: top;\n",
       "    }\n",
       "\n",
       "    .dataframe thead th {\n",
       "        text-align: right;\n",
       "    }\n",
       "</style>\n",
       "<table border=\"1\" class=\"dataframe\">\n",
       "  <thead>\n",
       "    <tr style=\"text-align: right;\">\n",
       "      <th></th>\n",
       "      <th>column2</th>\n",
       "      <th>column3</th>\n",
       "      <th>column4</th>\n",
       "    </tr>\n",
       "  </thead>\n",
       "  <tbody>\n",
       "    <tr>\n",
       "      <th>row1</th>\n",
       "      <td>1</td>\n",
       "      <td>2</td>\n",
       "      <td>3</td>\n",
       "    </tr>\n",
       "    <tr>\n",
       "      <th>row2</th>\n",
       "      <td>5</td>\n",
       "      <td>6</td>\n",
       "      <td>7</td>\n",
       "    </tr>\n",
       "    <tr>\n",
       "      <th>row3</th>\n",
       "      <td>9</td>\n",
       "      <td>10</td>\n",
       "      <td>11</td>\n",
       "    </tr>\n",
       "    <tr>\n",
       "      <th>row4</th>\n",
       "      <td>13</td>\n",
       "      <td>14</td>\n",
       "      <td>15</td>\n",
       "    </tr>\n",
       "    <tr>\n",
       "      <th>row5</th>\n",
       "      <td>17</td>\n",
       "      <td>18</td>\n",
       "      <td>19</td>\n",
       "    </tr>\n",
       "  </tbody>\n",
       "</table>\n",
       "</div>"
      ],
      "text/plain": [
       "      column2  column3  column4\n",
       "row1        1        2        3\n",
       "row2        5        6        7\n",
       "row3        9       10       11\n",
       "row4       13       14       15\n",
       "row5       17       18       19"
      ]
     },
     "execution_count": 150,
     "metadata": {},
     "output_type": "execute_result"
    }
   ],
   "source": [
    "df.iloc[:,1:]"
   ]
  },
  {
   "cell_type": "code",
   "execution_count": 151,
   "id": "1218eca5",
   "metadata": {},
   "outputs": [
    {
     "data": {
      "text/plain": [
       "array([[ 1,  2,  3],\n",
       "       [ 5,  6,  7],\n",
       "       [ 9, 10, 11],\n",
       "       [13, 14, 15],\n",
       "       [17, 18, 19]])"
      ]
     },
     "execution_count": 151,
     "metadata": {},
     "output_type": "execute_result"
    }
   ],
   "source": [
    "# convert Dataframes to array\n",
    "df.iloc[:,1:].values"
   ]
  },
  {
   "cell_type": "code",
   "execution_count": 152,
   "id": "09ba9f51",
   "metadata": {},
   "outputs": [
    {
     "data": {
      "text/plain": [
       "column1    0\n",
       "column2    0\n",
       "column3    0\n",
       "column4    0\n",
       "dtype: int64"
      ]
     },
     "execution_count": 152,
     "metadata": {},
     "output_type": "execute_result"
    }
   ],
   "source": [
    "df.isnull().sum()"
   ]
  },
  {
   "cell_type": "code",
   "execution_count": 153,
   "id": "33675943",
   "metadata": {},
   "outputs": [
    {
     "data": {
      "text/plain": [
       "1     1\n",
       "5     1\n",
       "9     1\n",
       "13    1\n",
       "17    1\n",
       "Name: column2, dtype: int64"
      ]
     },
     "execution_count": 153,
     "metadata": {},
     "output_type": "execute_result"
    }
   ],
   "source": [
    "\n",
    "df.column2.value_counts()"
   ]
  },
  {
   "cell_type": "code",
   "execution_count": 154,
   "id": "1f9ab89e",
   "metadata": {},
   "outputs": [
    {
     "data": {
      "text/plain": [
       "pandas.core.series.Series"
      ]
     },
     "execution_count": 154,
     "metadata": {},
     "output_type": "execute_result"
    }
   ],
   "source": [
    "type(df['column3'])"
   ]
  },
  {
   "cell_type": "code",
   "execution_count": 155,
   "id": "253b0aa3",
   "metadata": {
    "scrolled": true
   },
   "outputs": [
    {
     "data": {
      "text/plain": [
       "pandas.core.frame.DataFrame"
      ]
     },
     "execution_count": 155,
     "metadata": {},
     "output_type": "execute_result"
    }
   ],
   "source": [
    "type(df[['column3','column4']])"
   ]
  },
  {
   "cell_type": "code",
   "execution_count": 156,
   "id": "c331fbb0",
   "metadata": {},
   "outputs": [
    {
     "data": {
      "text/plain": [
       "array([ 1,  5,  9, 13, 17])"
      ]
     },
     "execution_count": 156,
     "metadata": {},
     "output_type": "execute_result"
    }
   ],
   "source": [
    "df.column2.unique()"
   ]
  },
  {
   "cell_type": "code",
   "execution_count": 157,
   "id": "3ebaf16e",
   "metadata": {},
   "outputs": [
    {
     "data": {
      "text/html": [
       "<div>\n",
       "<style scoped>\n",
       "    .dataframe tbody tr th:only-of-type {\n",
       "        vertical-align: middle;\n",
       "    }\n",
       "\n",
       "    .dataframe tbody tr th {\n",
       "        vertical-align: top;\n",
       "    }\n",
       "\n",
       "    .dataframe thead th {\n",
       "        text-align: right;\n",
       "    }\n",
       "</style>\n",
       "<table border=\"1\" class=\"dataframe\">\n",
       "  <thead>\n",
       "    <tr style=\"text-align: right;\">\n",
       "      <th></th>\n",
       "      <th>Hours</th>\n",
       "      <th>Scores</th>\n",
       "    </tr>\n",
       "  </thead>\n",
       "  <tbody>\n",
       "    <tr>\n",
       "      <th>0</th>\n",
       "      <td>2.5</td>\n",
       "      <td>21</td>\n",
       "    </tr>\n",
       "    <tr>\n",
       "      <th>1</th>\n",
       "      <td>5.1</td>\n",
       "      <td>47</td>\n",
       "    </tr>\n",
       "    <tr>\n",
       "      <th>2</th>\n",
       "      <td>3.2</td>\n",
       "      <td>27</td>\n",
       "    </tr>\n",
       "    <tr>\n",
       "      <th>3</th>\n",
       "      <td>8.5</td>\n",
       "      <td>75</td>\n",
       "    </tr>\n",
       "    <tr>\n",
       "      <th>4</th>\n",
       "      <td>3.5</td>\n",
       "      <td>30</td>\n",
       "    </tr>\n",
       "  </tbody>\n",
       "</table>\n",
       "</div>"
      ],
      "text/plain": [
       "   Hours  Scores\n",
       "0    2.5      21\n",
       "1    5.1      47\n",
       "2    3.2      27\n",
       "3    8.5      75\n",
       "4    3.5      30"
      ]
     },
     "execution_count": 157,
     "metadata": {},
     "output_type": "execute_result"
    }
   ],
   "source": [
    "import pandas as pd\n",
    "df=pd.read_csv('score.csv')\n",
    "df.head()"
   ]
  },
  {
   "cell_type": "code",
   "execution_count": 158,
   "id": "d2db2c21",
   "metadata": {},
   "outputs": [
    {
     "name": "stdout",
     "output_type": "stream",
     "text": [
      "<class 'pandas.core.frame.DataFrame'>\n",
      "RangeIndex: 25 entries, 0 to 24\n",
      "Data columns (total 2 columns):\n",
      " #   Column  Non-Null Count  Dtype  \n",
      "---  ------  --------------  -----  \n",
      " 0   Hours   25 non-null     float64\n",
      " 1   Scores  25 non-null     int64  \n",
      "dtypes: float64(1), int64(1)\n",
      "memory usage: 528.0 bytes\n"
     ]
    }
   ],
   "source": [
    "df.info()"
   ]
  },
  {
   "cell_type": "code",
   "execution_count": 159,
   "id": "35b9096c",
   "metadata": {},
   "outputs": [
    {
     "data": {
      "text/html": [
       "<div>\n",
       "<style scoped>\n",
       "    .dataframe tbody tr th:only-of-type {\n",
       "        vertical-align: middle;\n",
       "    }\n",
       "\n",
       "    .dataframe tbody tr th {\n",
       "        vertical-align: top;\n",
       "    }\n",
       "\n",
       "    .dataframe thead th {\n",
       "        text-align: right;\n",
       "    }\n",
       "</style>\n",
       "<table border=\"1\" class=\"dataframe\">\n",
       "  <thead>\n",
       "    <tr style=\"text-align: right;\">\n",
       "      <th></th>\n",
       "      <th>Hours</th>\n",
       "      <th>Scores</th>\n",
       "    </tr>\n",
       "  </thead>\n",
       "  <tbody>\n",
       "    <tr>\n",
       "      <th>count</th>\n",
       "      <td>25.000000</td>\n",
       "      <td>25.000000</td>\n",
       "    </tr>\n",
       "    <tr>\n",
       "      <th>mean</th>\n",
       "      <td>5.012000</td>\n",
       "      <td>51.480000</td>\n",
       "    </tr>\n",
       "    <tr>\n",
       "      <th>std</th>\n",
       "      <td>2.525094</td>\n",
       "      <td>25.286887</td>\n",
       "    </tr>\n",
       "    <tr>\n",
       "      <th>min</th>\n",
       "      <td>1.100000</td>\n",
       "      <td>17.000000</td>\n",
       "    </tr>\n",
       "    <tr>\n",
       "      <th>25%</th>\n",
       "      <td>2.700000</td>\n",
       "      <td>30.000000</td>\n",
       "    </tr>\n",
       "    <tr>\n",
       "      <th>50%</th>\n",
       "      <td>4.800000</td>\n",
       "      <td>47.000000</td>\n",
       "    </tr>\n",
       "    <tr>\n",
       "      <th>75%</th>\n",
       "      <td>7.400000</td>\n",
       "      <td>75.000000</td>\n",
       "    </tr>\n",
       "    <tr>\n",
       "      <th>max</th>\n",
       "      <td>9.200000</td>\n",
       "      <td>95.000000</td>\n",
       "    </tr>\n",
       "  </tbody>\n",
       "</table>\n",
       "</div>"
      ],
      "text/plain": [
       "           Hours     Scores\n",
       "count  25.000000  25.000000\n",
       "mean    5.012000  51.480000\n",
       "std     2.525094  25.286887\n",
       "min     1.100000  17.000000\n",
       "25%     2.700000  30.000000\n",
       "50%     4.800000  47.000000\n",
       "75%     7.400000  75.000000\n",
       "max     9.200000  95.000000"
      ]
     },
     "execution_count": 159,
     "metadata": {},
     "output_type": "execute_result"
    }
   ],
   "source": [
    "df.describe()"
   ]
  },
  {
   "cell_type": "code",
   "execution_count": 160,
   "id": "155b8993",
   "metadata": {
    "scrolled": true
   },
   "outputs": [
    {
     "data": {
      "text/html": [
       "<div>\n",
       "<style scoped>\n",
       "    .dataframe tbody tr th:only-of-type {\n",
       "        vertical-align: middle;\n",
       "    }\n",
       "\n",
       "    .dataframe tbody tr th {\n",
       "        vertical-align: top;\n",
       "    }\n",
       "\n",
       "    .dataframe thead th {\n",
       "        text-align: right;\n",
       "    }\n",
       "</style>\n",
       "<table border=\"1\" class=\"dataframe\">\n",
       "  <thead>\n",
       "    <tr style=\"text-align: right;\">\n",
       "      <th></th>\n",
       "      <th>Unnamed: 0</th>\n",
       "      <th>column1</th>\n",
       "      <th>column2</th>\n",
       "      <th>column3</th>\n",
       "      <th>column4</th>\n",
       "    </tr>\n",
       "  </thead>\n",
       "  <tbody>\n",
       "    <tr>\n",
       "      <th>0</th>\n",
       "      <td>row1</td>\n",
       "      <td>0</td>\n",
       "      <td>1</td>\n",
       "      <td>2</td>\n",
       "      <td>3</td>\n",
       "    </tr>\n",
       "    <tr>\n",
       "      <th>1</th>\n",
       "      <td>row2</td>\n",
       "      <td>4</td>\n",
       "      <td>5</td>\n",
       "      <td>6</td>\n",
       "      <td>7</td>\n",
       "    </tr>\n",
       "    <tr>\n",
       "      <th>2</th>\n",
       "      <td>row3</td>\n",
       "      <td>8</td>\n",
       "      <td>9</td>\n",
       "      <td>10</td>\n",
       "      <td>11</td>\n",
       "    </tr>\n",
       "    <tr>\n",
       "      <th>3</th>\n",
       "      <td>row4</td>\n",
       "      <td>12</td>\n",
       "      <td>13</td>\n",
       "      <td>14</td>\n",
       "      <td>15</td>\n",
       "    </tr>\n",
       "    <tr>\n",
       "      <th>4</th>\n",
       "      <td>row5</td>\n",
       "      <td>16</td>\n",
       "      <td>17</td>\n",
       "      <td>18</td>\n",
       "      <td>19</td>\n",
       "    </tr>\n",
       "  </tbody>\n",
       "</table>\n",
       "</div>"
      ],
      "text/plain": [
       "  Unnamed: 0  column1  column2  column3  column4\n",
       "0       row1        0        1        2        3\n",
       "1       row2        4        5        6        7\n",
       "2       row3        8        9       10       11\n",
       "3       row4       12       13       14       15\n",
       "4       row5       16       17       18       19"
      ]
     },
     "execution_count": 160,
     "metadata": {},
     "output_type": "execute_result"
    }
   ],
   "source": [
    "test_df=pd.read_csv('Test.csv', sep=',')\n",
    "test_df.head()"
   ]
  },
  {
   "cell_type": "code",
   "execution_count": 161,
   "id": "5fdb19bf",
   "metadata": {},
   "outputs": [
    {
     "data": {
      "text/html": [
       "<div>\n",
       "<style scoped>\n",
       "    .dataframe tbody tr th:only-of-type {\n",
       "        vertical-align: middle;\n",
       "    }\n",
       "\n",
       "    .dataframe tbody tr th {\n",
       "        vertical-align: top;\n",
       "    }\n",
       "\n",
       "    .dataframe thead th {\n",
       "        text-align: right;\n",
       "    }\n",
       "</style>\n",
       "<table border=\"1\" class=\"dataframe\">\n",
       "  <thead>\n",
       "    <tr style=\"text-align: right;\">\n",
       "      <th></th>\n",
       "      <th>0</th>\n",
       "    </tr>\n",
       "  </thead>\n",
       "  <tbody>\n",
       "    <tr>\n",
       "      <th>employee_name</th>\n",
       "      <td>james</td>\n",
       "    </tr>\n",
       "    <tr>\n",
       "      <th>email</th>\n",
       "      <td>edrkf@gmail.com</td>\n",
       "    </tr>\n",
       "    <tr>\n",
       "      <th>job_profile</th>\n",
       "      <td>senior</td>\n",
       "    </tr>\n",
       "  </tbody>\n",
       "</table>\n",
       "</div>"
      ],
      "text/plain": [
       "                             0\n",
       "employee_name            james\n",
       "email          edrkf@gmail.com\n",
       "job_profile             senior"
      ]
     },
     "execution_count": 161,
     "metadata": {},
     "output_type": "execute_result"
    }
   ],
   "source": [
    "# import pandas as pd\n",
    "data='{\"employee_name\":\"james\",\"email\":\"edrkf@gmail.com\",\"job_profile\":\"senior\"}'\n",
    "pd.read_json(data, orient='index')"
   ]
  },
  {
   "cell_type": "markdown",
   "id": "d5e5933b",
   "metadata": {},
   "source": [
    "## Matplotlib Tutorial\n",
    "matplotlib is plotting library for the python programming language and its numerical mathematics extension Numpy. it provide Object Oriented API for embedding plots into application using general-purpose GUI tookit like twinker wxpython Qt or GTK+"
   ]
  },
  {
   "cell_type": "code",
   "execution_count": 162,
   "id": "4dc05e3c",
   "metadata": {},
   "outputs": [],
   "source": [
    "import matplotlib.pyplot as plt\n",
    "import numpy as np\n",
    "%matplotlib inline"
   ]
  },
  {
   "cell_type": "code",
   "execution_count": 163,
   "id": "7b328905",
   "metadata": {},
   "outputs": [
    {
     "data": {
      "text/plain": [
       "array([0, 1, 2, 3, 4, 5, 6, 7, 8, 9])"
      ]
     },
     "execution_count": 163,
     "metadata": {},
     "output_type": "execute_result"
    }
   ],
   "source": [
    "x=np.arange(0,10)\n",
    "y=np.arange(11,21)\n",
    "x"
   ]
  },
  {
   "cell_type": "code",
   "execution_count": 164,
   "id": "690ef7c3",
   "metadata": {},
   "outputs": [],
   "source": [
    "x=np.arange(40,50)\n",
    "y=np.arange(50,60)"
   ]
  },
  {
   "cell_type": "code",
   "execution_count": 165,
   "id": "a92c1a55",
   "metadata": {},
   "outputs": [
    {
     "data": {
      "image/png": "[encoded data removed]",
      "text/plain": [
       "<Figure size 432x288 with 1 Axes>"
      ]
     },
     "metadata": {
      "needs_background": "light"
     },
     "output_type": "display_data"
    }
   ],
   "source": [
    "plt.scatter(x,y,c='y')\n",
    "plt.xlabel('xlabel')\n",
    "plt.title('Graph in 2D')\n",
    "plt.ylabel('yaxis')\n",
    "plt.savefig('save.jpg')"
   ]
  },
  {
   "cell_type": "code",
   "execution_count": 166,
   "id": "053cae97",
   "metadata": {},
   "outputs": [],
   "source": [
    "y=y*3"
   ]
  },
  {
   "cell_type": "code",
   "execution_count": 167,
   "id": "a77e1320",
   "metadata": {},
   "outputs": [
    {
     "data": {
      "text/plain": [
       "[<matplotlib.lines.Line2D at 0x26b946f16a0>]"
      ]
     },
     "execution_count": 167,
     "metadata": {},
     "output_type": "execute_result"
    },
    {
     "data": {
      "image/png": "[encoded data removed]",
      "text/plain": [
       "<Figure size 432x288 with 1 Axes>"
      ]
     },
     "metadata": {
      "needs_background": "light"
     },
     "output_type": "display_data"
    }
   ],
   "source": [
    "plt.plot(x,y,'r--')"
   ]
  },
  {
   "cell_type": "code",
   "execution_count": 168,
   "id": "acf0ae9f",
   "metadata": {},
   "outputs": [
    {
     "data": {
      "text/plain": [
       "[<matplotlib.lines.Line2D at 0x26b947547c0>]"
      ]
     },
     "execution_count": 168,
     "metadata": {},
     "output_type": "execute_result"
    },
    {
     "data": {
      "image/png": "[encoded data removed]",
      "text/plain": [
       "<Figure size 432x288 with 1 Axes>"
      ]
     },
     "metadata": {
      "needs_background": "light"
     },
     "output_type": "display_data"
    }
   ],
   "source": [
    "plt.plot(x,y,'r*-')"
   ]
  },
  {
   "cell_type": "code",
   "execution_count": 169,
   "id": "79fe3c9f",
   "metadata": {},
   "outputs": [
    {
     "name": "stderr",
     "output_type": "stream",
     "text": [
      "C:\\Users\\HP\\AppData\\Local\\Temp\\ipykernel_5536\\3371375543.py:1: UserWarning: linestyle is redundantly defined by the 'linestyle' keyword argument and the fmt string \"r*--\" (-> linestyle='--'). The keyword argument will take precedence.\n",
      "  plt.plot(x,y,'r*--', c='g', linestyle='dashed', linewidth=2, markersize=12)\n",
      "C:\\Users\\HP\\AppData\\Local\\Temp\\ipykernel_5536\\3371375543.py:1: UserWarning: color is redundantly defined by the 'color' keyword argument and the fmt string \"r*--\" (-> color='r'). The keyword argument will take precedence.\n",
      "  plt.plot(x,y,'r*--', c='g', linestyle='dashed', linewidth=2, markersize=12)\n"
     ]
    },
    {
     "data": {
      "text/plain": [
       "Text(0, 0.5, 'y axis')"
      ]
     },
     "execution_count": 169,
     "metadata": {},
     "output_type": "execute_result"
    },
    {
     "data": {
      "image/png": "[encoded data removed]",
      "text/plain": [
       "<Figure size 432x288 with 1 Axes>"
      ]
     },
     "metadata": {
      "needs_background": "light"
     },
     "output_type": "display_data"
    }
   ],
   "source": [
    "plt.plot(x,y,'r*--', c='g', linestyle='dashed', linewidth=2, markersize=12)\n",
    "plt.xlabel('x axis')\n",
    "plt.ylabel('y axis')\n"
   ]
  },
  {
   "cell_type": "code",
   "execution_count": 170,
   "id": "f5adbf01",
   "metadata": {
    "scrolled": true
   },
   "outputs": [
    {
     "data": {
      "text/plain": [
       "[<matplotlib.lines.Line2D at 0x26b948d1460>]"
      ]
     },
     "execution_count": 170,
     "metadata": {},
     "output_type": "execute_result"
    },
    {
     "data": {
      "image/png": "[encoded data removed]",
      "text/plain": [
       "<Figure size 432x288 with 4 Axes>"
      ]
     },
     "metadata": {
      "needs_background": "light"
     },
     "output_type": "display_data"
    }
   ],
   "source": [
    "plt.subplot(2,2,1)\n",
    "plt.plot(x,y,'r')\n",
    "plt.subplot(2,2,2)\n",
    "plt.plot(x,y,'y')\n",
    "plt.subplot(2,2,3)\n",
    "plt.plot(x,y,'b+-')\n",
    "plt.subplot(2,2,4)\n",
    "plt.plot(x,y,'go')"
   ]
  },
  {
   "cell_type": "code",
   "execution_count": 171,
   "id": "e48727c8",
   "metadata": {},
   "outputs": [
    {
     "data": {
      "image/png": "[encoded data removed]",
      "text/plain": [
       "<Figure size 432x288 with 1 Axes>"
      ]
     },
     "metadata": {
      "needs_background": "light"
     },
     "output_type": "display_data"
    }
   ],
   "source": [
    "x=np.arange(2,20)\n",
    "y=3*x+5\n",
    "plt.title('matplotlib demo')\n",
    "plt.plot(x,y)\n",
    "plt.show()"
   ]
  },
  {
   "cell_type": "code",
   "execution_count": 172,
   "id": "63aa2338",
   "metadata": {},
   "outputs": [
    {
     "data": {
      "text/plain": [
       "3.141592653589793"
      ]
     },
     "execution_count": 172,
     "metadata": {},
     "output_type": "execute_result"
    }
   ],
   "source": [
    "np.pi"
   ]
  },
  {
   "cell_type": "code",
   "execution_count": 173,
   "id": "e1021367",
   "metadata": {},
   "outputs": [
    {
     "data": {
      "text/plain": [
       "[<matplotlib.lines.Line2D at 0x26b949d09a0>]"
      ]
     },
     "execution_count": 173,
     "metadata": {},
     "output_type": "execute_result"
    },
    {
     "data": {
      "image/png": "[encoded data removed]",
      "text/plain": [
       "<Figure size 432x288 with 1 Axes>"
      ]
     },
     "metadata": {
      "needs_background": "light"
     },
     "output_type": "display_data"
    }
   ],
   "source": [
    "x=np.arange(0,4 * np.pi, 0.1)\n",
    "y=np.sin(x)\n",
    "plt.title('sine wave form')\n",
    "plt.plot(x,y)\n"
   ]
  },
  {
   "cell_type": "code",
   "execution_count": 174,
   "id": "1ec09c37",
   "metadata": {},
   "outputs": [
    {
     "data": {
      "text/plain": [
       "Text(0.5, 1.0, 'cosine')"
      ]
     },
     "execution_count": 174,
     "metadata": {},
     "output_type": "execute_result"
    },
    {
     "data": {
      "image/png": "[encoded data removed]",
      "text/plain": [
       "<Figure size 432x288 with 2 Axes>"
      ]
     },
     "metadata": {
      "needs_background": "light"
     },
     "output_type": "display_data"
    }
   ],
   "source": [
    "# compute the xand y coordinates for points on sine and cosine curves \n",
    "x=np.arange(0,5* np.pi,0.1)\n",
    "y_sin=np.sin(x)\n",
    "y_cos=np.cos(x)\n",
    "\n",
    "# a subplot grid that has height 2 and width 1\n",
    "plt.subplot(2,1,1)\n",
    "\n",
    "plt.plot(x,y_sin,'r--')\n",
    "plt.title('sine')\n",
    "\n",
    "#second subplot as active, and make the second plot\n",
    "plt.subplot(2,1,2)\n",
    "plt.plot(x,y_cos)\n",
    "plt.title('cosine')\n"
   ]
  },
  {
   "cell_type": "markdown",
   "id": "c0236c33",
   "metadata": {},
   "source": [
    "### Bar plot"
   ]
  },
  {
   "cell_type": "code",
   "execution_count": 175,
   "id": "d57e5589",
   "metadata": {},
   "outputs": [
    {
     "data": {
      "text/plain": [
       "Text(0, 0.5, 'y axis')"
      ]
     },
     "execution_count": 175,
     "metadata": {},
     "output_type": "execute_result"
    },
    {
     "data": {
      "image/png": "[encoded data removed]",
      "text/plain": [
       "<Figure size 432x288 with 1 Axes>"
      ]
     },
     "metadata": {
      "needs_background": "light"
     },
     "output_type": "display_data"
    }
   ],
   "source": [
    "# bar plot\n",
    "x=[2,8,10]\n",
    "y=[11,16,9]\n",
    "\n",
    "x2=[3,9,11]\n",
    "y2=[6,15,7]\n",
    "\n",
    "plt.bar(x,y,align='center')\n",
    "plt.bar(x2, y2, color='g')\n",
    "plt.title('bar graph')\n",
    "plt.xlabel('x axis')\n",
    "plt.ylabel('y axis')"
   ]
  },
  {
   "cell_type": "markdown",
   "id": "22d8fab5",
   "metadata": {},
   "source": [
    "### Histogram"
   ]
  },
  {
   "cell_type": "code",
   "execution_count": 176,
   "id": "5ef57a20",
   "metadata": {
    "scrolled": true
   },
   "outputs": [
    {
     "data": {
      "text/plain": [
       "Text(0.5, 1.0, 'histogram')"
      ]
     },
     "execution_count": 176,
     "metadata": {},
     "output_type": "execute_result"
    },
    {
     "data": {
      "image/png": "[encoded data removed]",
      "text/plain": [
       "<Figure size 432x288 with 1 Axes>"
      ]
     },
     "metadata": {
      "needs_background": "light"
     },
     "output_type": "display_data"
    }
   ],
   "source": [
    "a =np.array([22,86,73,11,20,5,79,31,27,20,43,56,55,53]) \n",
    "#and the count/frequency\n",
    "plt.hist(a,)\n",
    "plt.title('histogram')"
   ]
  },
  {
   "cell_type": "markdown",
   "id": "22ec128f",
   "metadata": {},
   "source": [
    "### Boxplot using Matplotlib"
   ]
  },
  {
   "cell_type": "code",
   "execution_count": 177,
   "id": "a876a0ac",
   "metadata": {
    "scrolled": true
   },
   "outputs": [
    {
     "data": {
      "image/png": "[encoded data removed]",
      "text/plain": [
       "<Figure size 432x288 with 1 Axes>"
      ]
     },
     "metadata": {
      "needs_background": "light"
     },
     "output_type": "display_data"
    }
   ],
   "source": [
    "data = [np.random.normal(0, std, 100) for std in range(1,4)]\n",
    "# rectangular box plot\n",
    "plt.boxplot(data, vert=True, patch_artist=True)\n",
    "plt.show()"
   ]
  },
  {
   "cell_type": "code",
   "execution_count": 178,
   "id": "93a19ddc",
   "metadata": {},
   "outputs": [
    {
     "data": {
      "text/plain": [
       "[array([-0.96877421,  0.91462375, -0.62632339, -0.25187426,  0.20264599,\n",
       "        -1.06991595, -0.49022748,  0.74596787,  1.52195377,  1.70639301,\n",
       "         0.14742406, -0.02310244,  0.45578881, -0.58418454, -0.80281398,\n",
       "         0.20543772, -0.0770998 ,  0.63192113,  0.15062725,  0.35566272,\n",
       "         1.913632  ,  1.57778583,  0.2399421 , -1.09893048, -0.25499968,\n",
       "        -0.26171359,  0.8689375 , -0.79388186, -0.8412214 ,  0.03917358,\n",
       "        -0.74696317,  1.20236397,  1.58913231,  0.35352557,  0.79309653,\n",
       "         1.07794723,  0.71319058, -0.9756579 , -1.5243937 , -0.64217399,\n",
       "         1.00166211,  0.88038772, -0.01544938, -1.63515651,  2.05603076,\n",
       "        -1.04595069,  1.18014545,  0.15487479,  0.42845038,  0.12055859,\n",
       "        -0.0930603 ,  1.52322965,  0.25476704, -0.30045991,  0.2744156 ,\n",
       "         0.56348703, -1.90270063, -1.41652341,  1.96000696,  0.98427371,\n",
       "        -0.15058314, -0.35394925,  0.58228857, -1.21190734, -1.2938354 ,\n",
       "         0.87581468,  0.05437182, -0.23914041,  0.90450773,  1.29708885,\n",
       "         0.22644435,  1.94777562,  0.38631132,  0.01629719,  1.05046994,\n",
       "         0.71841477, -0.38488619, -0.58109406,  0.89493504, -2.17855128,\n",
       "        -0.69440334, -1.81038009,  0.9394344 , -2.32345059, -0.42421944,\n",
       "        -2.11463784, -0.34198826,  0.06066431, -0.28643246,  0.26261548,\n",
       "         0.14191569,  0.44701476,  0.88048213, -0.03485266,  1.17747525,\n",
       "         0.09839039, -0.61857446, -0.38704192, -1.44622357, -1.2447576 ]),\n",
       " array([ 0.57794959,  1.41584488, -1.1206428 ,  1.70084352,  2.00626726,\n",
       "        -1.56564082, -2.0202689 , -0.46040602,  0.54992984,  0.26845019,\n",
       "         3.17396529,  3.00985598,  0.33853362, -0.55749257, -3.15009784,\n",
       "         0.88373031, -2.14813868, -0.51054373,  2.89656486, -0.42043634,\n",
       "        -1.02530576,  1.82224359,  0.04508289, -2.9293751 , -0.51725796,\n",
       "        -0.41761394, -2.55729203,  1.60962301, -0.61852527, -1.27569469,\n",
       "         0.03561473,  1.53729532,  2.56541249,  3.32524379, -1.08475947,\n",
       "        -1.40251389,  0.57666707, -3.05279902,  1.66871211, -1.97277456,\n",
       "        -1.9138864 , -0.35427845,  2.69646162, -2.52254958,  0.25519166,\n",
       "         1.38174485, -0.73587544, -2.15678842,  0.62312902,  4.23072322,\n",
       "         1.53395928, -0.58768979,  2.18389839,  4.90296547,  4.50255668,\n",
       "         3.07568549, -2.99687884, -3.70610174, -1.62138823, -1.80089992,\n",
       "        -1.21965305,  0.85571036,  1.277279  ,  0.04242067, -0.60563387,\n",
       "         2.84440489, -1.96825524, -1.07184775, -0.35113727,  0.18493832,\n",
       "        -0.16923187, -1.0420504 , -2.36407116,  1.0541088 ,  1.36990981,\n",
       "        -0.57589057,  2.02696262,  2.49193327,  1.39740862, -2.27073113,\n",
       "         3.20967119,  2.82512746, -1.93526294,  1.24211986, -1.47473858,\n",
       "        -1.20947545,  0.78299282, -0.32796865,  1.71816395, -0.6078531 ,\n",
       "         1.7827682 ,  1.0306648 , -6.77554008,  2.24947496,  3.48403222,\n",
       "         1.77531129,  3.19293448,  3.18744424,  2.31898796, -1.25891203]),\n",
       " array([-0.65667047,  3.98525247,  1.39396093,  2.73930716,  0.16059135,\n",
       "        -6.27614979, -2.59820638,  0.64631581, -2.9656094 , -2.10139157,\n",
       "        -1.59086349, -3.53309778,  5.71754538, -3.14662747,  0.97232736,\n",
       "        -0.79736618, -2.66662338,  1.10091684,  0.37405215, -1.32720849,\n",
       "        -3.15134664,  1.60450953,  0.98042062,  1.32604164,  0.73097799,\n",
       "         0.96909983, -1.92657519, -1.95260148, -6.616283  , -1.75472247,\n",
       "        -4.330424  ,  0.85443525, -3.07955367,  5.4422169 ,  2.20260048,\n",
       "        -4.66447484, -4.20013203,  3.71146069,  2.97646062, -0.38615955,\n",
       "         2.28126803, -0.38105738,  5.58035539,  0.57452273, -0.134581  ,\n",
       "        -6.06441218, -0.93893465, -3.6702333 , -0.16178482, -0.84825989,\n",
       "        -2.6064548 , -2.27553191, -3.17484264, -1.91496249, -2.76613068,\n",
       "         0.80407203, -1.3774896 ,  0.59564475, -1.92505269, -4.80189261,\n",
       "        -2.72524341,  4.40925354,  1.97173701,  1.07903157, -0.69017587,\n",
       "         1.62209416, -4.7432801 , -4.59678922, -3.64660878,  0.30514556,\n",
       "        -5.273891  ,  4.80348879,  2.9727402 , -3.1231687 , -0.74556021,\n",
       "        -3.88783058, -0.08694043, -4.10737582, -1.19236963, -1.75682845,\n",
       "        -1.04333088, -5.05544376,  1.20201086, -1.09554382,  0.83537985,\n",
       "         1.61024165,  3.66532116,  0.49492813,  1.69491052, -0.31099298,\n",
       "        -2.09126777,  1.05748181,  3.85067272,  8.03722175,  1.95643103,\n",
       "        -0.03717469,  3.33328626, -3.34276262,  3.71159816,  0.28580552])]"
      ]
     },
     "execution_count": 178,
     "metadata": {},
     "output_type": "execute_result"
    }
   ],
   "source": [
    "data"
   ]
  },
  {
   "cell_type": "code",
   "execution_count": 179,
   "id": "96eaafe3",
   "metadata": {},
   "outputs": [
    {
     "data": {
      "image/png": "[encoded data removed]",
      "text/plain": [
       "<Figure size 432x288 with 1 Axes>"
      ]
     },
     "metadata": {},
     "output_type": "display_data"
    }
   ],
   "source": [
    "# Data to plot\n",
    "labels= 'JS', 'c++', 'ruby', 'java'\n",
    "sizes=[215, 130, 245, 210]\n",
    "colors=['gold', 'yellowgreen','lightcoral', 'lightskyblue']\n",
    "explode=(0.2,0,0,0)#slice\n",
    "\n",
    "plt.pie(sizes,explode=explode, labels=labels, colors=colors,\n",
    "        autopct='%1.1f%%', shadow=True)   \n",
    "plt.axis('equal')\n",
    "plt.show()"
   ]
  },
  {
   "cell_type": "markdown",
   "id": "fd4a3a67",
   "metadata": {},
   "source": [
    "\n",
    "### Seaborn"
   ]
  },
  {
   "cell_type": "markdown",
   "id": "b4947560",
   "metadata": {},
   "source": [
    "### distribution of plot"
   ]
  },
  {
   "cell_type": "code",
   "execution_count": 180,
   "id": "e4280656",
   "metadata": {},
   "outputs": [],
   "source": [
    "# f1,in  one feature we use univariate analysis\n",
    "# f1,f2, bivariate a nalysis\n"
   ]
  },
  {
   "cell_type": "code",
   "execution_count": 181,
   "id": "bfcf6b8a",
   "metadata": {},
   "outputs": [],
   "source": [
    "import seaborn as sns"
   ]
  },
  {
   "cell_type": "code",
   "execution_count": 182,
   "id": "962fceac",
   "metadata": {},
   "outputs": [],
   "source": [
    "df= pd.read_csv('score.csv')"
   ]
  },
  {
   "cell_type": "code",
   "execution_count": 183,
   "id": "224fb753",
   "metadata": {},
   "outputs": [
    {
     "data": {
      "text/html": [
       "<div>\n",
       "<style scoped>\n",
       "    .dataframe tbody tr th:only-of-type {\n",
       "        vertical-align: middle;\n",
       "    }\n",
       "\n",
       "    .dataframe tbody tr th {\n",
       "        vertical-align: top;\n",
       "    }\n",
       "\n",
       "    .dataframe thead th {\n",
       "        text-align: right;\n",
       "    }\n",
       "</style>\n",
       "<table border=\"1\" class=\"dataframe\">\n",
       "  <thead>\n",
       "    <tr style=\"text-align: right;\">\n",
       "      <th></th>\n",
       "      <th>Hours</th>\n",
       "      <th>Scores</th>\n",
       "    </tr>\n",
       "  </thead>\n",
       "  <tbody>\n",
       "    <tr>\n",
       "      <th>0</th>\n",
       "      <td>2.5</td>\n",
       "      <td>21</td>\n",
       "    </tr>\n",
       "    <tr>\n",
       "      <th>1</th>\n",
       "      <td>5.1</td>\n",
       "      <td>47</td>\n",
       "    </tr>\n",
       "    <tr>\n",
       "      <th>2</th>\n",
       "      <td>3.2</td>\n",
       "      <td>27</td>\n",
       "    </tr>\n",
       "    <tr>\n",
       "      <th>3</th>\n",
       "      <td>8.5</td>\n",
       "      <td>75</td>\n",
       "    </tr>\n",
       "    <tr>\n",
       "      <th>4</th>\n",
       "      <td>3.5</td>\n",
       "      <td>30</td>\n",
       "    </tr>\n",
       "  </tbody>\n",
       "</table>\n",
       "</div>"
      ],
      "text/plain": [
       "   Hours  Scores\n",
       "0    2.5      21\n",
       "1    5.1      47\n",
       "2    3.2      27\n",
       "3    8.5      75\n",
       "4    3.5      30"
      ]
     },
     "execution_count": 183,
     "metadata": {},
     "output_type": "execute_result"
    }
   ],
   "source": [
    "df.head()"
   ]
  },
  {
   "cell_type": "code",
   "execution_count": 184,
   "id": "3f7d0461",
   "metadata": {},
   "outputs": [
    {
     "data": {
      "text/plain": [
       "Hours     float64\n",
       "Scores      int64\n",
       "dtype: object"
      ]
     },
     "execution_count": 184,
     "metadata": {},
     "output_type": "execute_result"
    }
   ],
   "source": [
    "df.dtypes"
   ]
  },
  {
   "cell_type": "markdown",
   "id": "09b5db98",
   "metadata": {},
   "source": [
    "### correlation with heatmap"
   ]
  },
  {
   "cell_type": "code",
   "execution_count": 185,
   "id": "c8912253",
   "metadata": {},
   "outputs": [
    {
     "data": {
      "text/html": [
       "<div>\n",
       "<style scoped>\n",
       "    .dataframe tbody tr th:only-of-type {\n",
       "        vertical-align: middle;\n",
       "    }\n",
       "\n",
       "    .dataframe tbody tr th {\n",
       "        vertical-align: top;\n",
       "    }\n",
       "\n",
       "    .dataframe thead th {\n",
       "        text-align: right;\n",
       "    }\n",
       "</style>\n",
       "<table border=\"1\" class=\"dataframe\">\n",
       "  <thead>\n",
       "    <tr style=\"text-align: right;\">\n",
       "      <th></th>\n",
       "      <th>Hours</th>\n",
       "      <th>Scores</th>\n",
       "    </tr>\n",
       "  </thead>\n",
       "  <tbody>\n",
       "    <tr>\n",
       "      <th>Hours</th>\n",
       "      <td>1.000000</td>\n",
       "      <td>0.976191</td>\n",
       "    </tr>\n",
       "    <tr>\n",
       "      <th>Scores</th>\n",
       "      <td>0.976191</td>\n",
       "      <td>1.000000</td>\n",
       "    </tr>\n",
       "  </tbody>\n",
       "</table>\n",
       "</div>"
      ],
      "text/plain": [
       "           Hours    Scores\n",
       "Hours   1.000000  0.976191\n",
       "Scores  0.976191  1.000000"
      ]
     },
     "execution_count": 185,
     "metadata": {},
     "output_type": "execute_result"
    }
   ],
   "source": [
    "df.corr()"
   ]
  },
  {
   "cell_type": "code",
   "execution_count": 186,
   "id": "a6fbd065",
   "metadata": {},
   "outputs": [
    {
     "data": {
      "text/plain": [
       "Hours     float64\n",
       "Scores      int64\n",
       "dtype: object"
      ]
     },
     "execution_count": 186,
     "metadata": {},
     "output_type": "execute_result"
    }
   ],
   "source": [
    "df.dtypes"
   ]
  },
  {
   "cell_type": "code",
   "execution_count": 187,
   "id": "751a0545",
   "metadata": {},
   "outputs": [
    {
     "data": {
      "text/plain": [
       "<AxesSubplot:>"
      ]
     },
     "execution_count": 187,
     "metadata": {},
     "output_type": "execute_result"
    },
    {
     "data": {
      "image/png": "[encoded data removed]",
      "text/plain": [
       "<Figure size 432x288 with 2 Axes>"
      ]
     },
     "metadata": {
      "needs_background": "light"
     },
     "output_type": "display_data"
    }
   ],
   "source": [
    "# value ranging from -1 to +1 that is pearson spearman corr\n",
    "sns.heatmap(df.corr(), annot=True)"
   ]
  },
  {
   "cell_type": "code",
   "execution_count": 188,
   "id": "cf637bcb",
   "metadata": {},
   "outputs": [
    {
     "data": {
      "text/plain": [
       "<seaborn.axisgrid.JointGrid at 0x26b95c4ca00>"
      ]
     },
     "execution_count": 188,
     "metadata": {},
     "output_type": "execute_result"
    },
    {
     "data": {
      "image/png": "[encoded data removed]",
      "text/plain": [
       "<Figure size 432x432 with 3 Axes>"
      ]
     },
     "metadata": {
      "needs_background": "light"
     },
     "output_type": "display_data"
    }
   ],
   "source": [
    "sns.jointplot(x=df['Hours'],y=df['Scores'],kind='hex')\n",
    "# uni and bivariate analysis"
   ]
  },
  {
   "cell_type": "markdown",
   "id": "e7355696",
   "metadata": {},
   "source": [
    "### Two dependent and independent(multivariate) variable or one univariate  use jointplot "
   ]
  },
  {
   "cell_type": "code",
   "execution_count": 189,
   "id": "491cadca",
   "metadata": {},
   "outputs": [
    {
     "data": {
      "text/plain": [
       "<seaborn.axisgrid.JointGrid at 0x26b95d5b040>"
      ]
     },
     "execution_count": 189,
     "metadata": {},
     "output_type": "execute_result"
    },
    {
     "data": {
      "image/png": "[encoded data removed]",
      "text/plain": [
       "<Figure size 432x432 with 3 Axes>"
      ]
     },
     "metadata": {
      "needs_background": "light"
     },
     "output_type": "display_data"
    }
   ],
   "source": [
    "sns.jointplot(x=df['Hours'],y=df['Scores'],kind='reg')\n",
    "# uni and bivariate analysis"
   ]
  },
  {
   "cell_type": "markdown",
   "id": "62f33550",
   "metadata": {},
   "source": [
    "### more than one variable we use multivarariate analysis"
   ]
  },
  {
   "cell_type": "markdown",
   "id": "2019db71",
   "metadata": {},
   "source": [
    "#### pair plot is also known as scatterplot, in which one variable in the same row match with another variable "
   ]
  },
  {
   "cell_type": "code",
   "execution_count": 190,
   "id": "c5d02b10",
   "metadata": {},
   "outputs": [
    {
     "data": {
      "text/plain": [
       "<seaborn.axisgrid.PairGrid at 0x26b95e724f0>"
      ]
     },
     "execution_count": 190,
     "metadata": {},
     "output_type": "execute_result"
    },
    {
     "data": {
      "image/png": "[encoded data removed]",
      "text/plain": [
       "<Figure size 360x360 with 6 Axes>"
      ]
     },
     "metadata": {
      "needs_background": "light"
     },
     "output_type": "display_data"
    }
   ],
   "source": [
    "sns.pairplot(df)  #no third feature"
   ]
  },
  {
   "cell_type": "code",
   "execution_count": 191,
   "id": "fdeee437",
   "metadata": {},
   "outputs": [
    {
     "data": {
      "text/plain": [
       "<seaborn.axisgrid.FacetGrid at 0x26b95e89ca0>"
      ]
     },
     "execution_count": 191,
     "metadata": {},
     "output_type": "execute_result"
    },
    {
     "data": {
      "image/png": "[encoded data removed]",
      "text/plain": [
       "<Figure size 360x360 with 1 Axes>"
      ]
     },
     "metadata": {
      "needs_background": "light"
     },
     "output_type": "display_data"
    }
   ],
   "source": [
    "sns.displot(df['Scores'], kde=True)"
   ]
  },
  {
   "cell_type": "markdown",
   "id": "1c05dc47",
   "metadata": {},
   "source": [
    "## for catergories u can use countplot"
   ]
  },
  {
   "cell_type": "markdown",
   "id": "f0e91922",
   "metadata": {},
   "source": [
    "### box plot and whisker plot graph  is used for information from five number summary"
   ]
  },
  {
   "cell_type": "code",
   "execution_count": 192,
   "id": "d27d1675",
   "metadata": {},
   "outputs": [
    {
     "name": "stderr",
     "output_type": "stream",
     "text": [
      "C:\\Users\\HP\\anaconda3\\lib\\site-packages\\seaborn\\_decorators.py:36: FutureWarning: Pass the following variable as a keyword arg: x. From version 0.12, the only valid positional argument will be `data`, and passing other arguments without an explicit keyword will result in an error or misinterpretation.\n",
      "  warnings.warn(\n"
     ]
    },
    {
     "data": {
      "text/plain": [
       "<AxesSubplot:xlabel='Hours'>"
      ]
     },
     "execution_count": 192,
     "metadata": {},
     "output_type": "execute_result"
    },
    {
     "data": {
      "image/png": "[encoded data removed]",
      "text/plain": [
       "<Figure size 432x288 with 1 Axes>"
      ]
     },
     "metadata": {
      "needs_background": "light"
     },
     "output_type": "display_data"
    }
   ],
   "source": [
    "sns.boxplot('Hours',data=df,)"
   ]
  },
  {
   "cell_type": "code",
   "execution_count": 193,
   "id": "2edb3cda",
   "metadata": {},
   "outputs": [],
   "source": [
    "import  seaborn as sns\n",
    "df=sns.load_dataset('tips')"
   ]
  },
  {
   "cell_type": "code",
   "execution_count": 194,
   "id": "c13de09a",
   "metadata": {},
   "outputs": [
    {
     "data": {
      "text/html": [
       "<div>\n",
       "<style scoped>\n",
       "    .dataframe tbody tr th:only-of-type {\n",
       "        vertical-align: middle;\n",
       "    }\n",
       "\n",
       "    .dataframe tbody tr th {\n",
       "        vertical-align: top;\n",
       "    }\n",
       "\n",
       "    .dataframe thead th {\n",
       "        text-align: right;\n",
       "    }\n",
       "</style>\n",
       "<table border=\"1\" class=\"dataframe\">\n",
       "  <thead>\n",
       "    <tr style=\"text-align: right;\">\n",
       "      <th></th>\n",
       "      <th>total_bill</th>\n",
       "      <th>tip</th>\n",
       "      <th>sex</th>\n",
       "      <th>smoker</th>\n",
       "      <th>day</th>\n",
       "      <th>time</th>\n",
       "      <th>size</th>\n",
       "    </tr>\n",
       "  </thead>\n",
       "  <tbody>\n",
       "    <tr>\n",
       "      <th>0</th>\n",
       "      <td>16.99</td>\n",
       "      <td>1.01</td>\n",
       "      <td>Female</td>\n",
       "      <td>No</td>\n",
       "      <td>Sun</td>\n",
       "      <td>Dinner</td>\n",
       "      <td>2</td>\n",
       "    </tr>\n",
       "    <tr>\n",
       "      <th>1</th>\n",
       "      <td>10.34</td>\n",
       "      <td>1.66</td>\n",
       "      <td>Male</td>\n",
       "      <td>No</td>\n",
       "      <td>Sun</td>\n",
       "      <td>Dinner</td>\n",
       "      <td>3</td>\n",
       "    </tr>\n",
       "    <tr>\n",
       "      <th>2</th>\n",
       "      <td>21.01</td>\n",
       "      <td>3.50</td>\n",
       "      <td>Male</td>\n",
       "      <td>No</td>\n",
       "      <td>Sun</td>\n",
       "      <td>Dinner</td>\n",
       "      <td>3</td>\n",
       "    </tr>\n",
       "    <tr>\n",
       "      <th>3</th>\n",
       "      <td>23.68</td>\n",
       "      <td>3.31</td>\n",
       "      <td>Male</td>\n",
       "      <td>No</td>\n",
       "      <td>Sun</td>\n",
       "      <td>Dinner</td>\n",
       "      <td>2</td>\n",
       "    </tr>\n",
       "    <tr>\n",
       "      <th>4</th>\n",
       "      <td>24.59</td>\n",
       "      <td>3.61</td>\n",
       "      <td>Female</td>\n",
       "      <td>No</td>\n",
       "      <td>Sun</td>\n",
       "      <td>Dinner</td>\n",
       "      <td>4</td>\n",
       "    </tr>\n",
       "  </tbody>\n",
       "</table>\n",
       "</div>"
      ],
      "text/plain": [
       "   total_bill   tip     sex smoker  day    time  size\n",
       "0       16.99  1.01  Female     No  Sun  Dinner     2\n",
       "1       10.34  1.66    Male     No  Sun  Dinner     3\n",
       "2       21.01  3.50    Male     No  Sun  Dinner     3\n",
       "3       23.68  3.31    Male     No  Sun  Dinner     2\n",
       "4       24.59  3.61  Female     No  Sun  Dinner     4"
      ]
     },
     "execution_count": 194,
     "metadata": {},
     "output_type": "execute_result"
    }
   ],
   "source": [
    "df.head()"
   ]
  },
  {
   "cell_type": "code",
   "execution_count": 195,
   "id": "02be0275",
   "metadata": {},
   "outputs": [
    {
     "data": {
      "text/plain": [
       "total_bill    0\n",
       "tip           0\n",
       "sex           0\n",
       "smoker        0\n",
       "day           0\n",
       "time          0\n",
       "size          0\n",
       "dtype: int64"
      ]
     },
     "execution_count": 195,
     "metadata": {},
     "output_type": "execute_result"
    }
   ],
   "source": [
    "df.isnull().sum()"
   ]
  },
  {
   "cell_type": "code",
   "execution_count": 196,
   "id": "e26d49e5",
   "metadata": {},
   "outputs": [
    {
     "name": "stdout",
     "output_type": "stream",
     "text": [
      "<class 'pandas.core.frame.DataFrame'>\n",
      "RangeIndex: 244 entries, 0 to 243\n",
      "Data columns (total 7 columns):\n",
      " #   Column      Non-Null Count  Dtype   \n",
      "---  ------      --------------  -----   \n",
      " 0   total_bill  244 non-null    float64 \n",
      " 1   tip         244 non-null    float64 \n",
      " 2   sex         244 non-null    category\n",
      " 3   smoker      244 non-null    category\n",
      " 4   day         244 non-null    category\n",
      " 5   time        244 non-null    category\n",
      " 6   size        244 non-null    int64   \n",
      "dtypes: category(4), float64(2), int64(1)\n",
      "memory usage: 7.4 KB\n"
     ]
    }
   ],
   "source": [
    "df.info()"
   ]
  },
  {
   "cell_type": "code",
   "execution_count": 197,
   "id": "8072dd67",
   "metadata": {},
   "outputs": [
    {
     "data": {
      "text/plain": [
       "total_bill     float64\n",
       "tip            float64\n",
       "sex           category\n",
       "smoker        category\n",
       "day           category\n",
       "time          category\n",
       "size             int64\n",
       "dtype: object"
      ]
     },
     "execution_count": 197,
     "metadata": {},
     "output_type": "execute_result"
    }
   ],
   "source": [
    "df.dtypes"
   ]
  },
  {
   "cell_type": "code",
   "execution_count": 198,
   "id": "7f21980e",
   "metadata": {},
   "outputs": [
    {
     "data": {
      "text/plain": [
       "<AxesSubplot:>"
      ]
     },
     "execution_count": 198,
     "metadata": {},
     "output_type": "execute_result"
    },
    {
     "data": {
      "image/png": "[encoded data removed]",
      "text/plain": [
       "<Figure size 432x288 with 2 Axes>"
      ]
     },
     "metadata": {
      "needs_background": "light"
     },
     "output_type": "display_data"
    }
   ],
   "source": [
    "# value ranging from -1 to +1 that is pearson spearman corr\n",
    "sns.heatmap(df.corr(), annot=True)"
   ]
  },
  {
   "cell_type": "code",
   "execution_count": 199,
   "id": "3ad726ef",
   "metadata": {},
   "outputs": [
    {
     "data": {
      "text/html": [
       "<div>\n",
       "<style scoped>\n",
       "    .dataframe tbody tr th:only-of-type {\n",
       "        vertical-align: middle;\n",
       "    }\n",
       "\n",
       "    .dataframe tbody tr th {\n",
       "        vertical-align: top;\n",
       "    }\n",
       "\n",
       "    .dataframe thead th {\n",
       "        text-align: right;\n",
       "    }\n",
       "</style>\n",
       "<table border=\"1\" class=\"dataframe\">\n",
       "  <thead>\n",
       "    <tr style=\"text-align: right;\">\n",
       "      <th></th>\n",
       "      <th>total_bill</th>\n",
       "      <th>tip</th>\n",
       "      <th>size</th>\n",
       "    </tr>\n",
       "  </thead>\n",
       "  <tbody>\n",
       "    <tr>\n",
       "      <th>total_bill</th>\n",
       "      <td>1.000000</td>\n",
       "      <td>0.675734</td>\n",
       "      <td>0.598315</td>\n",
       "    </tr>\n",
       "    <tr>\n",
       "      <th>tip</th>\n",
       "      <td>0.675734</td>\n",
       "      <td>1.000000</td>\n",
       "      <td>0.489299</td>\n",
       "    </tr>\n",
       "    <tr>\n",
       "      <th>size</th>\n",
       "      <td>0.598315</td>\n",
       "      <td>0.489299</td>\n",
       "      <td>1.000000</td>\n",
       "    </tr>\n",
       "  </tbody>\n",
       "</table>\n",
       "</div>"
      ],
      "text/plain": [
       "            total_bill       tip      size\n",
       "total_bill    1.000000  0.675734  0.598315\n",
       "tip           0.675734  1.000000  0.489299\n",
       "size          0.598315  0.489299  1.000000"
      ]
     },
     "execution_count": 199,
     "metadata": {},
     "output_type": "execute_result"
    }
   ],
   "source": [
    "df.corr()\n",
    "# the relationship between the tip and total bill and size "
   ]
  },
  {
   "cell_type": "markdown",
   "id": "3f5cbac2",
   "metadata": {},
   "source": [
    "\n",
    "### joint plot\n",
    "relationship between two numeric variables usually scatterplot or histogram etc ### univariate analysis"
   ]
  },
  {
   "cell_type": "code",
   "execution_count": 200,
   "id": "04e5120e",
   "metadata": {
    "scrolled": true
   },
   "outputs": [
    {
     "data": {
      "text/plain": [
       "<seaborn.axisgrid.JointGrid at 0x26b961a4940>"
      ]
     },
     "execution_count": 200,
     "metadata": {},
     "output_type": "execute_result"
    },
    {
     "data": {
      "image/png": "[encoded data removed]",
      "text/plain": [
       "<Figure size 432x432 with 3 Axes>"
      ]
     },
     "metadata": {
      "needs_background": "light"
     },
     "output_type": "display_data"
    }
   ],
   "source": [
    "sns.jointplot(x='tip', y='total_bill', data=df, kind='hex')\n",
    "# this show that many people has given  the tip around 10 to 20 dollars"
   ]
  },
  {
   "cell_type": "code",
   "execution_count": 201,
   "id": "b23163a0",
   "metadata": {
    "scrolled": true
   },
   "outputs": [
    {
     "data": {
      "text/plain": [
       "<seaborn.axisgrid.JointGrid at 0x26b96114700>"
      ]
     },
     "execution_count": 201,
     "metadata": {},
     "output_type": "execute_result"
    },
    {
     "data": {
      "image/png": "[encoded data removed]",
      "text/plain": [
       "<Figure size 432x432 with 3 Axes>"
      ]
     },
     "metadata": {
      "needs_background": "light"
     },
     "output_type": "display_data"
    }
   ],
   "source": [
    "sns.jointplot(x='tip', y='total_bill', data=df, kind='reg')\n",
    "# bivariate analysis\n",
    "\n",
    "# this show that many people has given  the tip around 10 to 20 dollars"
   ]
  },
  {
   "cell_type": "markdown",
   "id": "1b74c0e7",
   "metadata": {},
   "source": [
    "### Pair Plot\n",
    "if your features are more than two\n",
    "we use pairplot\n",
    "point in which one variable match in the same data row is matched with another variable, for elaboration showing where all varaibles paired with all other variable"
   ]
  },
  {
   "cell_type": "code",
   "execution_count": 202,
   "id": "6ec2223a",
   "metadata": {
    "scrolled": true
   },
   "outputs": [
    {
     "data": {
      "text/plain": [
       "<seaborn.axisgrid.PairGrid at 0x26b96406790>"
      ]
     },
     "execution_count": 202,
     "metadata": {},
     "output_type": "execute_result"
    },
    {
     "data": {
      "image/png": "[encoded data removed]",
      "text/plain": [
       "<Figure size 540x540 with 12 Axes>"
      ]
     },
     "metadata": {
      "needs_background": "light"
     },
     "output_type": "display_data"
    }
   ],
   "source": [
    "sns.pairplot(df)\n",
    "# more than two independent features"
   ]
  },
  {
   "cell_type": "code",
   "execution_count": 203,
   "id": "4e4b1521",
   "metadata": {},
   "outputs": [
    {
     "data": {
      "text/plain": [
       "<seaborn.axisgrid.PairGrid at 0x26b978b08e0>"
      ]
     },
     "execution_count": 203,
     "metadata": {},
     "output_type": "execute_result"
    },
    {
     "data": {
      "image/png": "[encoded data removed]",
      "text/plain": [
       "<Figure size 612.125x540 with 12 Axes>"
      ]
     },
     "metadata": {
      "needs_background": "light"
     },
     "output_type": "display_data"
    }
   ],
   "source": [
    "sns.pairplot(df, hue='sex')\n",
    "# we  can classify the point using pairplot"
   ]
  },
  {
   "cell_type": "code",
   "execution_count": 204,
   "id": "b884b6e2",
   "metadata": {},
   "outputs": [
    {
     "data": {
      "text/plain": [
       "No     151\n",
       "Yes     93\n",
       "Name: smoker, dtype: int64"
      ]
     },
     "execution_count": 204,
     "metadata": {},
     "output_type": "execute_result"
    }
   ],
   "source": [
    "df['smoker'].value_counts()"
   ]
  },
  {
   "cell_type": "markdown",
   "id": "e8e2306e",
   "metadata": {},
   "source": [
    "### Distplot\n",
    "is help to create the distribution of the column of a feature"
   ]
  },
  {
   "cell_type": "code",
   "execution_count": 205,
   "id": "33c8c6a4",
   "metadata": {
    "scrolled": true
   },
   "outputs": [
    {
     "data": {
      "text/plain": [
       "<seaborn.axisgrid.FacetGrid at 0x26b97f634f0>"
      ]
     },
     "execution_count": 205,
     "metadata": {},
     "output_type": "execute_result"
    },
    {
     "data": {
      "image/png": "[encoded data removed]",
      "text/plain": [
       "<Figure size 360x360 with 1 Axes>"
      ]
     },
     "metadata": {
      "needs_background": "light"
     },
     "output_type": "display_data"
    }
   ],
   "source": [
    "sns.displot(df['tip'], kde=True)\n"
   ]
  },
  {
   "cell_type": "code",
   "execution_count": 206,
   "id": "e5cd2095",
   "metadata": {
    "scrolled": true
   },
   "outputs": [
    {
     "data": {
      "text/plain": [
       "<seaborn.axisgrid.FacetGrid at 0x26b97f56670>"
      ]
     },
     "execution_count": 206,
     "metadata": {},
     "output_type": "execute_result"
    },
    {
     "data": {
      "image/png": "[encoded data removed]",
      "text/plain": [
       "<Figure size 360x360 with 1 Axes>"
      ]
     },
     "metadata": {
      "needs_background": "light"
     },
     "output_type": "display_data"
    }
   ],
   "source": [
    " sns.displot(df['tip'], kde=False)"
   ]
  },
  {
   "cell_type": "markdown",
   "id": "7fdd7536",
   "metadata": {},
   "source": [
    "### Catergorical Plots"
   ]
  },
  {
   "cell_type": "markdown",
   "id": "4a5374b4",
   "metadata": {},
   "source": [
    "boxplot  violinplot countplot barplot"
   ]
  },
  {
   "cell_type": "code",
   "execution_count": 207,
   "id": "f46a66bb",
   "metadata": {},
   "outputs": [
    {
     "data": {
      "text/plain": [
       "<AxesSubplot:xlabel='sex', ylabel='count'>"
      ]
     },
     "execution_count": 207,
     "metadata": {},
     "output_type": "execute_result"
    },
    {
     "data": {
      "image/png": "[encoded data removed]",
      "text/plain": [
       "<Figure size 432x288 with 1 Axes>"
      ]
     },
     "metadata": {
      "needs_background": "light"
     },
     "output_type": "display_data"
    }
   ],
   "source": [
    "sns.countplot(x='sex',data=df)\n",
    "# to show frequency of one varaible"
   ]
  },
  {
   "cell_type": "code",
   "execution_count": 208,
   "id": "94ce6c43",
   "metadata": {
    "scrolled": true
   },
   "outputs": [
    {
     "data": {
      "text/plain": [
       "<AxesSubplot:xlabel='day', ylabel='count'>"
      ]
     },
     "execution_count": 208,
     "metadata": {},
     "output_type": "execute_result"
    },
    {
     "data": {
      "image/png": "[encoded data removed]",
      "text/plain": [
       "<Figure size 432x288 with 1 Axes>"
      ]
     },
     "metadata": {
      "needs_background": "light"
     },
     "output_type": "display_data"
    }
   ],
   "source": [
    "sns.countplot(x='day',data=df)"
   ]
  },
  {
   "cell_type": "code",
   "execution_count": 209,
   "id": "637f46e8",
   "metadata": {},
   "outputs": [
    {
     "data": {
      "text/plain": [
       "<AxesSubplot:xlabel='sex', ylabel='total_bill'>"
      ]
     },
     "execution_count": 209,
     "metadata": {},
     "output_type": "execute_result"
    },
    {
     "data": {
      "image/png": "[encoded data removed]",
      "text/plain": [
       "<Figure size 432x288 with 1 Axes>"
      ]
     },
     "metadata": {
      "needs_background": "light"
     },
     "output_type": "display_data"
    }
   ],
   "source": [
    "# bar plot\n",
    "sns.barplot(x='sex', y='total_bill', data=df)\n",
    "# two catergories"
   ]
  },
  {
   "cell_type": "code",
   "execution_count": 210,
   "id": "d3be72c3",
   "metadata": {},
   "outputs": [
    {
     "data": {
      "text/plain": [
       "<AxesSubplot:xlabel='smoker', ylabel='total_bill'>"
      ]
     },
     "execution_count": 210,
     "metadata": {},
     "output_type": "execute_result"
    },
    {
     "data": {
      "image/png": "[encoded data removed]",
      "text/plain": [
       "<Figure size 432x288 with 1 Axes>"
      ]
     },
     "metadata": {
      "needs_background": "light"
     },
     "output_type": "display_data"
    }
   ],
   "source": [
    "sns.barplot(x='smoker', y='total_bill', data=df)"
   ]
  },
  {
   "cell_type": "code",
   "execution_count": 211,
   "id": "bfece74c",
   "metadata": {},
   "outputs": [
    {
     "data": {
      "text/html": [
       "<div>\n",
       "<style scoped>\n",
       "    .dataframe tbody tr th:only-of-type {\n",
       "        vertical-align: middle;\n",
       "    }\n",
       "\n",
       "    .dataframe tbody tr th {\n",
       "        vertical-align: top;\n",
       "    }\n",
       "\n",
       "    .dataframe thead th {\n",
       "        text-align: right;\n",
       "    }\n",
       "</style>\n",
       "<table border=\"1\" class=\"dataframe\">\n",
       "  <thead>\n",
       "    <tr style=\"text-align: right;\">\n",
       "      <th></th>\n",
       "      <th>total_bill</th>\n",
       "      <th>tip</th>\n",
       "      <th>sex</th>\n",
       "      <th>smoker</th>\n",
       "      <th>day</th>\n",
       "      <th>time</th>\n",
       "      <th>size</th>\n",
       "    </tr>\n",
       "  </thead>\n",
       "  <tbody>\n",
       "    <tr>\n",
       "      <th>0</th>\n",
       "      <td>16.99</td>\n",
       "      <td>1.01</td>\n",
       "      <td>Female</td>\n",
       "      <td>No</td>\n",
       "      <td>Sun</td>\n",
       "      <td>Dinner</td>\n",
       "      <td>2</td>\n",
       "    </tr>\n",
       "    <tr>\n",
       "      <th>1</th>\n",
       "      <td>10.34</td>\n",
       "      <td>1.66</td>\n",
       "      <td>Male</td>\n",
       "      <td>No</td>\n",
       "      <td>Sun</td>\n",
       "      <td>Dinner</td>\n",
       "      <td>3</td>\n",
       "    </tr>\n",
       "    <tr>\n",
       "      <th>2</th>\n",
       "      <td>21.01</td>\n",
       "      <td>3.50</td>\n",
       "      <td>Male</td>\n",
       "      <td>No</td>\n",
       "      <td>Sun</td>\n",
       "      <td>Dinner</td>\n",
       "      <td>3</td>\n",
       "    </tr>\n",
       "  </tbody>\n",
       "</table>\n",
       "</div>"
      ],
      "text/plain": [
       "   total_bill   tip     sex smoker  day    time  size\n",
       "0       16.99  1.01  Female     No  Sun  Dinner     2\n",
       "1       10.34  1.66    Male     No  Sun  Dinner     3\n",
       "2       21.01  3.50    Male     No  Sun  Dinner     3"
      ]
     },
     "execution_count": 211,
     "metadata": {},
     "output_type": "execute_result"
    }
   ],
   "source": [
    " df.head(3)"
   ]
  },
  {
   "cell_type": "markdown",
   "id": "5faff28a",
   "metadata": {},
   "source": [
    "### Box Plot\n",
    "this is for five descriptive summary of the data"
   ]
  },
  {
   "cell_type": "code",
   "execution_count": 212,
   "id": "5a3d650c",
   "metadata": {
    "scrolled": true
   },
   "outputs": [
    {
     "data": {
      "text/plain": [
       "<AxesSubplot:xlabel='smoker', ylabel='total_bill'>"
      ]
     },
     "execution_count": 212,
     "metadata": {},
     "output_type": "execute_result"
    },
    {
     "data": {
      "image/png": "[encoded data removed]",
      "text/plain": [
       "<Figure size 432x288 with 1 Axes>"
      ]
     },
     "metadata": {
      "needs_background": "light"
     },
     "output_type": "display_data"
    }
   ],
   "source": [
    "sns.boxplot(x='smoker',y='total_bill',data=df )"
   ]
  },
  {
   "cell_type": "code",
   "execution_count": 213,
   "id": "dfe41c1a",
   "metadata": {
    "scrolled": true
   },
   "outputs": [
    {
     "data": {
      "text/plain": [
       "<AxesSubplot:xlabel='day', ylabel='total_bill'>"
      ]
     },
     "execution_count": 213,
     "metadata": {},
     "output_type": "execute_result"
    },
    {
     "data": {
      "image/png": "[encoded data removed]",
      "text/plain": [
       "<Figure size 432x288 with 1 Axes>"
      ]
     },
     "metadata": {
      "needs_background": "light"
     },
     "output_type": "display_data"
    }
   ],
   "source": [
    "sns.boxplot(x='day', y='total_bill', data=df, palette='rainbow')"
   ]
  },
  {
   "cell_type": "code",
   "execution_count": 214,
   "id": "66911509",
   "metadata": {},
   "outputs": [
    {
     "data": {
      "text/plain": [
       "<AxesSubplot:>"
      ]
     },
     "execution_count": 214,
     "metadata": {},
     "output_type": "execute_result"
    },
    {
     "data": {
      "image/png": "[encoded data removed]",
      "text/plain": [
       "<Figure size 432x288 with 1 Axes>"
      ]
     },
     "metadata": {
      "needs_background": "light"
     },
     "output_type": "display_data"
    }
   ],
   "source": [
    "sns.boxplot(data=df,orient='v')"
   ]
  },
  {
   "cell_type": "code",
   "execution_count": 215,
   "id": "bdc4b748",
   "metadata": {},
   "outputs": [
    {
     "data": {
      "text/plain": [
       "<AxesSubplot:xlabel='day', ylabel='total_bill'>"
      ]
     },
     "execution_count": 215,
     "metadata": {},
     "output_type": "execute_result"
    },
    {
     "data": {
      "image/png": "[encoded data removed]",
      "text/plain": [
       "<Figure size 432x288 with 1 Axes>"
      ]
     },
     "metadata": {
      "needs_background": "light"
     },
     "output_type": "display_data"
    }
   ],
   "source": [
    "# catergorizing data based on other catergories\n",
    "sns.boxplot(x='day', y='total_bill', hue='smoker',data=df)"
   ]
  },
  {
   "cell_type": "markdown",
   "id": "26fd8d1c",
   "metadata": {},
   "source": [
    "#### violin plot"
   ]
  },
  {
   "cell_type": "markdown",
   "id": "b4352026",
   "metadata": {},
   "source": [
    "violin plot helps us to see both the distribution of data in terms of kde kernel density estimation and boxplot "
   ]
  },
  {
   "cell_type": "code",
   "execution_count": 216,
   "id": "31413900",
   "metadata": {},
   "outputs": [
    {
     "data": {
      "text/plain": [
       "<AxesSubplot:xlabel='total_bill', ylabel='day'>"
      ]
     },
     "execution_count": 216,
     "metadata": {},
     "output_type": "execute_result"
    },
    {
     "data": {
      "image/png": "[encoded data removed]",
      "text/plain": [
       "<Figure size 432x288 with 1 Axes>"
      ]
     },
     "metadata": {
      "needs_background": "light"
     },
     "output_type": "display_data"
    }
   ],
   "source": [
    "sns.violinplot(x='total_bill', y='day', data=df, palette='rainbow')"
   ]
  },
  {
   "cell_type": "markdown",
   "id": "26e654e6",
   "metadata": {},
   "source": [
    "### functions in python \n",
    " function is used for reuseable code"
   ]
  },
  {
   "cell_type": "code",
   "execution_count": 217,
   "id": "9ecdf66b",
   "metadata": {},
   "outputs": [
    {
     "name": "stdout",
     "output_type": "stream",
     "text": [
      "number is even\n"
     ]
    }
   ],
   "source": [
    "num = 24\n",
    "if num%2==0:\n",
    "    print('number is even')\n",
    "else:\n",
    "    print('number is odd')"
   ]
  },
  {
   "cell_type": "code",
   "execution_count": 218,
   "id": "8861308c",
   "metadata": {},
   "outputs": [],
   "source": [
    "#  using function\n",
    "def even_odd (num):\n",
    "    if num%2==0:\n",
    "       print('number is even')\n",
    "    else:\n",
    "       print('number is odd')\n",
    "\n",
    "        "
   ]
  },
  {
   "cell_type": "code",
   "execution_count": 219,
   "id": "7b9e55d5",
   "metadata": {},
   "outputs": [
    {
     "name": "stdout",
     "output_type": "stream",
     "text": [
      "number is even\n"
     ]
    }
   ],
   "source": [
    "even_odd(34)"
   ]
  },
  {
   "cell_type": "code",
   "execution_count": 220,
   "id": "80f18c2f",
   "metadata": {},
   "outputs": [],
   "source": [
    "# print vs return\n",
    "def helloworld():\n",
    "    print('hello welcome')\n"
   ]
  },
  {
   "cell_type": "code",
   "execution_count": 221,
   "id": "4c62627b",
   "metadata": {},
   "outputs": [
    {
     "name": "stdout",
     "output_type": "stream",
     "text": [
      "hello welcome\n"
     ]
    }
   ],
   "source": [
    "helloworld()"
   ]
  },
  {
   "cell_type": "code",
   "execution_count": 222,
   "id": "2fd377d2",
   "metadata": {},
   "outputs": [],
   "source": [
    "def helloworld():\n",
    "    return('hello welcome')"
   ]
  },
  {
   "cell_type": "code",
   "execution_count": 223,
   "id": "99558119",
   "metadata": {},
   "outputs": [
    {
     "name": "stdout",
     "output_type": "stream",
     "text": [
      "hello welcome\n"
     ]
    }
   ],
   "source": [
    "print(helloworld())"
   ]
  },
  {
   "cell_type": "code",
   "execution_count": 224,
   "id": "e24ae7fc",
   "metadata": {},
   "outputs": [],
   "source": [
    "result= helloworld()"
   ]
  },
  {
   "cell_type": "code",
   "execution_count": 225,
   "id": "e9bf3414",
   "metadata": {},
   "outputs": [
    {
     "name": "stdout",
     "output_type": "stream",
     "text": [
      "hello welcome\n"
     ]
    }
   ],
   "source": [
    "print(result)"
   ]
  },
  {
   "cell_type": "code",
   "execution_count": 226,
   "id": "3cb92677",
   "metadata": {},
   "outputs": [],
   "source": [
    "def addnum(num1, num2):\n",
    "       print(num1+num2)\n",
    "\n",
    "    \n",
    "    "
   ]
  },
  {
   "cell_type": "code",
   "execution_count": 227,
   "id": "eacb599a",
   "metadata": {},
   "outputs": [
    {
     "name": "stdout",
     "output_type": "stream",
     "text": [
      "5\n"
     ]
    }
   ],
   "source": [
    "addnum(2,3)"
   ]
  },
  {
   "cell_type": "code",
   "execution_count": 228,
   "id": "538dccbe",
   "metadata": {},
   "outputs": [],
   "source": [
    "# dictionary\n",
    "def hello(name, age=29):\n",
    "    print(f'my name is {name} and my age {age}')\n",
    "#name is positional argument  \n",
    "# age is keyword argument"
   ]
  },
  {
   "cell_type": "code",
   "execution_count": 229,
   "id": "5feb25ec",
   "metadata": {},
   "outputs": [
    {
     "name": "stdout",
     "output_type": "stream",
     "text": [
      "my name is emma and my age 33\n",
      "None\n"
     ]
    }
   ],
   "source": [
    "\n",
    "res= hello(\"emma\", 33)\n",
    "print(res)"
   ]
  },
  {
   "cell_type": "code",
   "execution_count": 230,
   "id": "93d75a66",
   "metadata": {},
   "outputs": [],
   "source": [
    "def hello(*args, **kwargs):\n",
    "    print(args)\n",
    "    print(kwargs)"
   ]
  },
  {
   "cell_type": "code",
   "execution_count": 231,
   "id": "c5b3b5e6",
   "metadata": {},
   "outputs": [
    {
     "name": "stdout",
     "output_type": "stream",
     "text": [
      "('krish', 'naik')\n",
      "{'age': 29, 'dob': 1990}\n"
     ]
    }
   ],
   "source": [
    "hello('krish', 'naik', age=29,dob=1990 )"
   ]
  },
  {
   "cell_type": "code",
   "execution_count": 232,
   "id": "b309ec57",
   "metadata": {},
   "outputs": [],
   "source": [
    "lst= ['krish', 'Naik']\n",
    "dict_args= {'age':29, 'dob':1990}"
   ]
  },
  {
   "cell_type": "code",
   "execution_count": 233,
   "id": "e9a8c6a7",
   "metadata": {},
   "outputs": [
    {
     "name": "stdout",
     "output_type": "stream",
     "text": [
      "('krish', 'Naik')\n",
      "{'age': 29, 'dob': 1990}\n"
     ]
    }
   ],
   "source": [
    "hello(*lst, **dict_args)"
   ]
  },
  {
   "cell_type": "code",
   "execution_count": 234,
   "id": "cbf77a4f",
   "metadata": {},
   "outputs": [],
   "source": [
    "lst=[1,2,3,4,5,6,7,8]"
   ]
  },
  {
   "cell_type": "code",
   "execution_count": 235,
   "id": "b555761b",
   "metadata": {},
   "outputs": [],
   "source": [
    "def evenoddsum(lst):\n",
    "    even_sum=0\n",
    "    odd_sum=0\n",
    "    for i in lst:\n",
    "        if i%2==0:\n",
    "            even_sum=even_sum + i\n",
    "        else:\n",
    "            odd_sum=odd_sum+i\n",
    "    print('even numbers are: '+\" \"+str(even_sum))\n",
    "    print('odd numbers are: '+\" \"+str(odd_sum))"
   ]
  },
  {
   "cell_type": "code",
   "execution_count": 236,
   "id": "96698ced",
   "metadata": {},
   "outputs": [
    {
     "name": "stdout",
     "output_type": "stream",
     "text": [
      "even numbers are:  20\n",
      "odd numbers are:  16\n"
     ]
    }
   ],
   "source": [
    "evenoddsum(lst)"
   ]
  },
  {
   "cell_type": "markdown",
   "id": "deb383ce",
   "metadata": {},
   "source": [
    "### lambda function\n",
    "anonymous function \n",
    "function with no name"
   ]
  },
  {
   "cell_type": "code",
   "execution_count": 237,
   "id": "b3c18ed6",
   "metadata": {},
   "outputs": [],
   "source": [
    "def addition (a,b):\n",
    "    return a+b"
   ]
  },
  {
   "cell_type": "code",
   "execution_count": 238,
   "id": "f79833b0",
   "metadata": {},
   "outputs": [
    {
     "name": "stdout",
     "output_type": "stream",
     "text": [
      "8\n"
     ]
    }
   ],
   "source": [
    "print(addition(3,5))"
   ]
  },
  {
   "cell_type": "code",
   "execution_count": 239,
   "id": "ea66a916",
   "metadata": {},
   "outputs": [],
   "source": [
    "add=lambda a,b:a+b"
   ]
  },
  {
   "cell_type": "code",
   "execution_count": 240,
   "id": "2748f781",
   "metadata": {},
   "outputs": [
    {
     "data": {
      "text/plain": [
       "8"
      ]
     },
     "execution_count": 240,
     "metadata": {},
     "output_type": "execute_result"
    }
   ],
   "source": [
    "add(3,5)"
   ]
  },
  {
   "cell_type": "code",
   "execution_count": 241,
   "id": "84b24e7c",
   "metadata": {},
   "outputs": [],
   "source": [
    "def even(num):\n",
    "    if num%2==0:\n",
    "        print('even')"
   ]
  },
  {
   "cell_type": "code",
   "execution_count": 242,
   "id": "598bbf1b",
   "metadata": {},
   "outputs": [
    {
     "name": "stdout",
     "output_type": "stream",
     "text": [
      "even\n"
     ]
    }
   ],
   "source": [
    "even(6)"
   ]
  },
  {
   "cell_type": "code",
   "execution_count": 243,
   "id": "1ecc523f",
   "metadata": {},
   "outputs": [],
   "source": [
    "geteven= lambda num:num%2==0 "
   ]
  },
  {
   "cell_type": "code",
   "execution_count": 244,
   "id": "825b0a1c",
   "metadata": {},
   "outputs": [
    {
     "data": {
      "text/plain": [
       "True"
      ]
     },
     "execution_count": 244,
     "metadata": {},
     "output_type": "execute_result"
    }
   ],
   "source": [
    "geteven(12)"
   ]
  },
  {
   "cell_type": "code",
   "execution_count": 245,
   "id": "e220e9fc",
   "metadata": {},
   "outputs": [],
   "source": [
    "def addition(x,y,z):\n",
    "    print(x+y+z)"
   ]
  },
  {
   "cell_type": "code",
   "execution_count": 246,
   "id": "d383db5c",
   "metadata": {},
   "outputs": [
    {
     "name": "stdout",
     "output_type": "stream",
     "text": [
      "12\n"
     ]
    }
   ],
   "source": [
    "addition(3,4,5)"
   ]
  },
  {
   "cell_type": "code",
   "execution_count": 247,
   "id": "73132cb4",
   "metadata": {},
   "outputs": [],
   "source": [
    "add1=lambda x,y,z:x+y*z"
   ]
  },
  {
   "cell_type": "code",
   "execution_count": 248,
   "id": "37b844ff",
   "metadata": {},
   "outputs": [
    {
     "data": {
      "text/plain": [
       "23"
      ]
     },
     "execution_count": 248,
     "metadata": {},
     "output_type": "execute_result"
    }
   ],
   "source": [
    "add1(3,4,5)"
   ]
  },
  {
   "cell_type": "markdown",
   "id": "5c82c2bd",
   "metadata": {},
   "source": [
    "### Map comprehension"
   ]
  },
  {
   "cell_type": "code",
   "execution_count": 249,
   "id": "1561c31d",
   "metadata": {},
   "outputs": [],
   "source": [
    "def evenodd(num):\n",
    "    if num%2==0:\n",
    "        return 'this number {} is even'.format(num)\n",
    "    else:\n",
    "        return f'this number {num} is odd'\n",
    "    "
   ]
  },
  {
   "cell_type": "code",
   "execution_count": 250,
   "id": "e0bbe265",
   "metadata": {},
   "outputs": [
    {
     "data": {
      "text/plain": [
       "'this number 34 is even'"
      ]
     },
     "execution_count": 250,
     "metadata": {},
     "output_type": "execute_result"
    }
   ],
   "source": [
    "evenodd(34)"
   ]
  },
  {
   "cell_type": "code",
   "execution_count": 251,
   "id": "c86731ca",
   "metadata": {},
   "outputs": [],
   "source": [
    " lst=[1,3,3,4,2,45,6]"
   ]
  },
  {
   "cell_type": "code",
   "execution_count": 252,
   "id": "1713e17b",
   "metadata": {},
   "outputs": [
    {
     "name": "stdout",
     "output_type": "stream",
     "text": [
      "number is odd\n",
      "number is odd\n",
      "number is odd\n",
      "number is even\n",
      "number is even\n",
      "number is odd\n",
      "number is even\n"
     ]
    },
    {
     "data": {
      "text/plain": [
       "[None, None, None, None, None, None, None]"
      ]
     },
     "execution_count": 252,
     "metadata": {},
     "output_type": "execute_result"
    }
   ],
   "source": [
    "list(map(even_odd, lst))"
   ]
  },
  {
   "cell_type": "code",
   "execution_count": null,
   "id": "d8ee7b39",
   "metadata": {},
   "outputs": [],
   "source": []
  },
  {
   "cell_type": "code",
   "execution_count": 253,
   "id": "3c4f3207",
   "metadata": {},
   "outputs": [],
   "source": [
    "num=[1,4,5,6,8,2,9]\n",
    "def geteven(num):\n",
    "    if num%2==0:\n",
    "        print(num)\n"
   ]
  },
  {
   "cell_type": "code",
   "execution_count": 254,
   "id": "e7b4d719",
   "metadata": {},
   "outputs": [],
   "source": [
    "num=[1,4,5,6,8,2,9]"
   ]
  },
  {
   "cell_type": "code",
   "execution_count": null,
   "id": "e60b4725",
   "metadata": {},
   "outputs": [],
   "source": []
  },
  {
   "cell_type": "code",
   "execution_count": 255,
   "id": "7ee00644",
   "metadata": {},
   "outputs": [
    {
     "name": "stdout",
     "output_type": "stream",
     "text": [
      "4\n",
      "6\n",
      "8\n",
      "2\n"
     ]
    },
    {
     "data": {
      "text/plain": [
       "[None, None, None, None, None, None, None]"
      ]
     },
     "execution_count": 255,
     "metadata": {},
     "output_type": "execute_result"
    }
   ],
   "source": [
    "list(map(geteven, num))"
   ]
  },
  {
   "cell_type": "markdown",
   "id": "289c7814",
   "metadata": {},
   "source": [
    "filter function"
   ]
  },
  {
   "cell_type": "code",
   "execution_count": 256,
   "id": "2f77d243",
   "metadata": {},
   "outputs": [],
   "source": [
    "def even(num) :\n",
    "    if num%2==0:\n",
    "        return True"
   ]
  },
  {
   "cell_type": "code",
   "execution_count": 257,
   "id": "0bce52f1",
   "metadata": {},
   "outputs": [],
   "source": [
    "lst=[2,3,1,5,6,7,8,4]"
   ]
  },
  {
   "cell_type": "code",
   "execution_count": 258,
   "id": "91b67da8",
   "metadata": {},
   "outputs": [
    {
     "data": {
      "text/plain": [
       "[2, 6, 8, 4]"
      ]
     },
     "execution_count": 258,
     "metadata": {},
     "output_type": "execute_result"
    }
   ],
   "source": [
    "list(filter(even,lst))"
   ]
  },
  {
   "cell_type": "code",
   "execution_count": 259,
   "id": "0dbcffd6",
   "metadata": {},
   "outputs": [
    {
     "data": {
      "text/plain": [
       "[2, 6, 8, 4]"
      ]
     },
     "execution_count": 259,
     "metadata": {},
     "output_type": "execute_result"
    }
   ],
   "source": [
    "list(filter(lambda num:num%2==0, lst))"
   ]
  },
  {
   "cell_type": "code",
   "execution_count": 260,
   "id": "919afea6",
   "metadata": {},
   "outputs": [
    {
     "data": {
      "text/plain": [
       "[True, False, False, False, True, False, True, True]"
      ]
     },
     "execution_count": 260,
     "metadata": {},
     "output_type": "execute_result"
    }
   ],
   "source": [
    "list(map(lambda num:num%2==0, lst)) "
   ]
  },
  {
   "cell_type": "markdown",
   "id": "404c43cc",
   "metadata": {},
   "source": [
    "#### List Comprehension\n",
    "it provides a way to create a lists. it consist of brackets containing an expression followed by  clauses then zero or if clauses"
   ]
  },
  {
   "cell_type": "code",
   "execution_count": 261,
   "id": "f412239c",
   "metadata": {},
   "outputs": [],
   "source": [
    "lst1=[]\n",
    "def lst_square(lst):\n",
    "    for i in lst:\n",
    "        lst1.append(i*i)\n",
    "    return lst1"
   ]
  },
  {
   "cell_type": "code",
   "execution_count": 262,
   "id": "4be99d67",
   "metadata": {},
   "outputs": [
    {
     "data": {
      "text/plain": [
       "[4, 9, 16, 4, 25, 36, 49]"
      ]
     },
     "execution_count": 262,
     "metadata": {},
     "output_type": "execute_result"
    }
   ],
   "source": [
    "lst_square([2,3,4,2,5,6,7])"
   ]
  },
  {
   "cell_type": "code",
   "execution_count": 263,
   "id": "d6cd99b8",
   "metadata": {},
   "outputs": [],
   "source": [
    "lst1=[]\n",
    "def lst_square(lst):\n",
    "    for i in lst:\n",
    "        if i%2==0:\n",
    "         lst1.append(i)\n",
    "    return lst1"
   ]
  },
  {
   "cell_type": "code",
   "execution_count": 264,
   "id": "255cfa62",
   "metadata": {},
   "outputs": [
    {
     "data": {
      "text/plain": [
       "[2, 2, 4, 6, 8]"
      ]
     },
     "execution_count": 264,
     "metadata": {},
     "output_type": "execute_result"
    }
   ],
   "source": [
    "lst_square([2,3,5,2,4,5,6,8,9])"
   ]
  },
  {
   "cell_type": "code",
   "execution_count": 265,
   "id": "02ea20cf",
   "metadata": {},
   "outputs": [
    {
     "data": {
      "text/plain": [
       "[4, 9, 1, 25, 36, 49, 64, 16]"
      ]
     },
     "execution_count": 265,
     "metadata": {},
     "output_type": "execute_result"
    }
   ],
   "source": [
    "[i*i for i in lst]"
   ]
  },
  {
   "cell_type": "code",
   "execution_count": 266,
   "id": "4598dad5",
   "metadata": {},
   "outputs": [
    {
     "name": "stdout",
     "output_type": "stream",
     "text": [
      "[4, 36, 64, 16]\n"
     ]
    }
   ],
   "source": [
    "lst2=[i*i for i in lst if i%2==0]\n",
    "print(lst2)"
   ]
  },
  {
   "cell_type": "code",
   "execution_count": 267,
   "id": "872e7ff1",
   "metadata": {},
   "outputs": [],
   "source": [
    "lst=[]\n",
    "def listq(lt):\n",
    "    for i in lt:\n",
    "      if i%2==0:\n",
    "        lst.append(i)\n",
    "    return lst    "
   ]
  },
  {
   "cell_type": "code",
   "execution_count": 268,
   "id": "6f1f7ff5",
   "metadata": {},
   "outputs": [
    {
     "data": {
      "text/plain": [
       "[2, 8, 10]"
      ]
     },
     "execution_count": 268,
     "metadata": {},
     "output_type": "execute_result"
    }
   ],
   "source": [
    "listq([2,8,10,5,7,1,9,3])"
   ]
  },
  {
   "cell_type": "code",
   "execution_count": 269,
   "id": "7169fea1",
   "metadata": {},
   "outputs": [],
   "source": [
    "lst=[2,4,3,9,5]"
   ]
  },
  {
   "cell_type": "code",
   "execution_count": 270,
   "id": "b044d2db",
   "metadata": {},
   "outputs": [],
   "source": [
    "lst9=[i*i for i in lst]"
   ]
  },
  {
   "cell_type": "code",
   "execution_count": 271,
   "id": "c99374ab",
   "metadata": {},
   "outputs": [
    {
     "name": "stdout",
     "output_type": "stream",
     "text": [
      "[4, 16, 9, 81, 25]\n"
     ]
    }
   ],
   "source": [
    "print(lst9)"
   ]
  },
  {
   "cell_type": "code",
   "execution_count": 272,
   "id": "b4f1ea2c",
   "metadata": {},
   "outputs": [],
   "source": [
    "lst9=[i*i for i in lst if i%2==0]"
   ]
  },
  {
   "cell_type": "code",
   "execution_count": null,
   "id": "b1384c82",
   "metadata": {},
   "outputs": [],
   "source": []
  }
 ],
 "metadata": {
  "kernelspec": {
   "display_name": "Python 3 (ipykernel)",
   "language": "python",
   "name": "python3"
  },
  "language_info": {
   "codemirror_mode": {
    "name": "ipython",
    "version": 3
   },
   "file_extension": ".py",
   "mimetype": "text/x-python",
   "name": "python",
   "nbconvert_exporter": "python",
   "pygments_lexer": "ipython3",
   "version": "3.9.12"
  },
  "widgets": {
   "application/vnd.jupyter.widget-state+json": {
    "state": {},
    "version_major": 2,
    "version_minor": 0
   }
  }
 },
 "nbformat": 4,
 "nbformat_minor": 5
}
